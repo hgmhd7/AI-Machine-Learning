{
  "cells": [
    {
      "cell_type": "markdown",
      "metadata": {
        "id": "view-in-github",
        "colab_type": "text"
      },
      "source": [
        "<a href=\"https://colab.research.google.com/github/hgmhd7/AI-Machine-Learning/blob/main/model_evaluation.ipynb\" target=\"_parent\"><img src=\"https://colab.research.google.com/assets/colab-badge.svg\" alt=\"Open In Colab\"/></a>"
      ]
    },
    {
      "cell_type": "markdown",
      "id": "e1817658",
      "metadata": {
        "id": "e1817658"
      },
      "source": [
        "<h2 style=\"color: green; text-align: center; font-weight: bold;\">Post class assignment</h2>"
      ]
    },
    {
      "cell_type": "markdown",
      "id": "R2bED8wpDbjl",
      "metadata": {
        "id": "R2bED8wpDbjl"
      },
      "source": [
        "# Introduction"
      ]
    },
    {
      "cell_type": "markdown",
      "id": "c5629aa3",
      "metadata": {
        "id": "c5629aa3"
      },
      "source": [
        "#### XYZ Bank - Term Deposit Subscription Prediction\n",
        "* You are a data scientist at XYZ Bank, tasked with helping the bank increase the success rate of its term deposit campaigns. In the previous campaigns, the bank noticed that only a small fraction of customers subscribed to term deposits, and now they want to use data science to predict which customers are likely to subscribe.\n",
        "\n",
        "<center><img src=\"https://dcbtehri.co.in/wp-content/uploads/2020/05/FD1.jpg\"/></center>\n",
        "\n",
        "* You’ve been provided with a dataset that includes information about customer demographics, financial behavior, and previous campaign contact history. Your task is to evaluate different machine learning models and help the bank efficiently target potential customers for their term deposit marketing efforts."
      ]
    },
    {
      "cell_type": "markdown",
      "id": "3X2_Rb1pD5gO",
      "metadata": {
        "id": "3X2_Rb1pD5gO"
      },
      "source": [
        "# Step 1: Import the neccessary libraries"
      ]
    },
    {
      "cell_type": "code",
      "execution_count": null,
      "id": "9531e156",
      "metadata": {
        "id": "9531e156"
      },
      "outputs": [],
      "source": [
        "# Import the necessary libraries(numpy, pandas, matplotlib, seaborn)\n",
        "# Data manipulation and numerical operations\n",
        "\n",
        "import numpy as np\n",
        "import pandas as pd\n",
        "from sklearn.model_selection import train_test_split\n",
        "import matplotlib.pyplot as plt\n",
        "import seaborn as sns\n",
        "\n",
        "# Setting maximum limit of the number of columns visible\n",
        "pd.set_option('display.max_columns', 30)"
      ]
    },
    {
      "cell_type": "markdown",
      "id": "3hvU39A8Ebdo",
      "metadata": {
        "id": "3hvU39A8Ebdo"
      },
      "source": [
        "# Step 2: Load the data"
      ]
    },
    {
      "cell_type": "markdown",
      "id": "c707f440",
      "metadata": {
        "id": "c707f440"
      },
      "source": [
        "\n",
        "### The dataset contains 16 features and a target as shown below:\n",
        "1. `age`: The customer's age.\n",
        "2. `job`: The type of job the customer has.\n",
        "3. `marital`: The marital status of the customer.\n",
        "4. `education`: The customer's level of education.\n",
        "5. `default`: Whether the customer has credit in default.\n",
        "6. `balance`: The average yearly balance in euros.\n",
        "7. `housing`: Whether the customer has a housing loan.\n",
        "8. `loan`: Whether the customer has a personal loan.\n",
        "9. `contact`: The type of communication contact\n",
        "10. `day`: The last contact day of the month.\n",
        "11. `month`: The last contact month of the year.\n",
        "12. `duration`: The last contact duration in seconds.\n",
        "13. `campaign`: Number of contacts performed during this campaign.\n",
        "14. `pdays`: Number of days since the client was last contacted.\n",
        "15. `previous`: Number of contacts before this campaign.\n",
        "16. `poutcome`: Outcome of the previous marketing campaign.\n",
        "17. `y`: Whether the customer subscribed to the term deposit (yes/no).\n"
      ]
    },
    {
      "cell_type": "markdown",
      "id": "LqcJJXn1Fzpv",
      "metadata": {
        "id": "LqcJJXn1Fzpv"
      },
      "source": [
        "### 2.1 Load the data & view it\n"
      ]
    },
    {
      "cell_type": "markdown",
      "id": "iLqa3tpuF9sK",
      "metadata": {
        "id": "iLqa3tpuF9sK"
      },
      "source": [
        "Hint: Use ; as the seperator."
      ]
    },
    {
      "cell_type": "code",
      "execution_count": null,
      "id": "SfWrfuCELnph",
      "metadata": {
        "colab": {
          "base_uri": "https://localhost:8080/"
        },
        "id": "SfWrfuCELnph",
        "outputId": "8136aa99-6df5-4749-f9f6-3744184446ea"
      },
      "outputs": [
        {
          "output_type": "stream",
          "name": "stdout",
          "text": [
            "Mounted at /content/drive\n"
          ]
        }
      ],
      "source": [
        "# mount the Google Drive to get the bank data\n",
        "from google.colab import drive\n",
        "drive.mount('/content/drive')"
      ]
    },
    {
      "cell_type": "code",
      "execution_count": null,
      "id": "PgfKmdEHElow",
      "metadata": {
        "colab": {
          "base_uri": "https://localhost:8080/",
          "height": 206
        },
        "id": "PgfKmdEHElow",
        "outputId": "528d070c-1c76-45b6-8e15-734f3697e0fe"
      },
      "outputs": [
        {
          "output_type": "execute_result",
          "data": {
            "text/plain": [
              "   age           job  marital  education default  balance housing loan  \\\n",
              "0   58    management  married   tertiary      no     2143     yes   no   \n",
              "1   44    technician   single  secondary      no       29     yes   no   \n",
              "2   33  entrepreneur  married  secondary      no        2     yes  yes   \n",
              "3   47   blue-collar  married    unknown      no     1506     yes   no   \n",
              "4   33       unknown   single    unknown      no        1      no   no   \n",
              "\n",
              "   contact  day month  duration  campaign  pdays  previous poutcome   y  \n",
              "0  unknown    5   may       261         1     -1         0  unknown  no  \n",
              "1  unknown    5   may       151         1     -1         0  unknown  no  \n",
              "2  unknown    5   may        76         1     -1         0  unknown  no  \n",
              "3  unknown    5   may        92         1     -1         0  unknown  no  \n",
              "4  unknown    5   may       198         1     -1         0  unknown  no  "
            ],
            "text/html": [
              "\n",
              "  <div id=\"df-36dfd892-03b3-47b6-97a5-aba2783c5be3\" class=\"colab-df-container\">\n",
              "    <div>\n",
              "<style scoped>\n",
              "    .dataframe tbody tr th:only-of-type {\n",
              "        vertical-align: middle;\n",
              "    }\n",
              "\n",
              "    .dataframe tbody tr th {\n",
              "        vertical-align: top;\n",
              "    }\n",
              "\n",
              "    .dataframe thead th {\n",
              "        text-align: right;\n",
              "    }\n",
              "</style>\n",
              "<table border=\"1\" class=\"dataframe\">\n",
              "  <thead>\n",
              "    <tr style=\"text-align: right;\">\n",
              "      <th></th>\n",
              "      <th>age</th>\n",
              "      <th>job</th>\n",
              "      <th>marital</th>\n",
              "      <th>education</th>\n",
              "      <th>default</th>\n",
              "      <th>balance</th>\n",
              "      <th>housing</th>\n",
              "      <th>loan</th>\n",
              "      <th>contact</th>\n",
              "      <th>day</th>\n",
              "      <th>month</th>\n",
              "      <th>duration</th>\n",
              "      <th>campaign</th>\n",
              "      <th>pdays</th>\n",
              "      <th>previous</th>\n",
              "      <th>poutcome</th>\n",
              "      <th>y</th>\n",
              "    </tr>\n",
              "  </thead>\n",
              "  <tbody>\n",
              "    <tr>\n",
              "      <th>0</th>\n",
              "      <td>58</td>\n",
              "      <td>management</td>\n",
              "      <td>married</td>\n",
              "      <td>tertiary</td>\n",
              "      <td>no</td>\n",
              "      <td>2143</td>\n",
              "      <td>yes</td>\n",
              "      <td>no</td>\n",
              "      <td>unknown</td>\n",
              "      <td>5</td>\n",
              "      <td>may</td>\n",
              "      <td>261</td>\n",
              "      <td>1</td>\n",
              "      <td>-1</td>\n",
              "      <td>0</td>\n",
              "      <td>unknown</td>\n",
              "      <td>no</td>\n",
              "    </tr>\n",
              "    <tr>\n",
              "      <th>1</th>\n",
              "      <td>44</td>\n",
              "      <td>technician</td>\n",
              "      <td>single</td>\n",
              "      <td>secondary</td>\n",
              "      <td>no</td>\n",
              "      <td>29</td>\n",
              "      <td>yes</td>\n",
              "      <td>no</td>\n",
              "      <td>unknown</td>\n",
              "      <td>5</td>\n",
              "      <td>may</td>\n",
              "      <td>151</td>\n",
              "      <td>1</td>\n",
              "      <td>-1</td>\n",
              "      <td>0</td>\n",
              "      <td>unknown</td>\n",
              "      <td>no</td>\n",
              "    </tr>\n",
              "    <tr>\n",
              "      <th>2</th>\n",
              "      <td>33</td>\n",
              "      <td>entrepreneur</td>\n",
              "      <td>married</td>\n",
              "      <td>secondary</td>\n",
              "      <td>no</td>\n",
              "      <td>2</td>\n",
              "      <td>yes</td>\n",
              "      <td>yes</td>\n",
              "      <td>unknown</td>\n",
              "      <td>5</td>\n",
              "      <td>may</td>\n",
              "      <td>76</td>\n",
              "      <td>1</td>\n",
              "      <td>-1</td>\n",
              "      <td>0</td>\n",
              "      <td>unknown</td>\n",
              "      <td>no</td>\n",
              "    </tr>\n",
              "    <tr>\n",
              "      <th>3</th>\n",
              "      <td>47</td>\n",
              "      <td>blue-collar</td>\n",
              "      <td>married</td>\n",
              "      <td>unknown</td>\n",
              "      <td>no</td>\n",
              "      <td>1506</td>\n",
              "      <td>yes</td>\n",
              "      <td>no</td>\n",
              "      <td>unknown</td>\n",
              "      <td>5</td>\n",
              "      <td>may</td>\n",
              "      <td>92</td>\n",
              "      <td>1</td>\n",
              "      <td>-1</td>\n",
              "      <td>0</td>\n",
              "      <td>unknown</td>\n",
              "      <td>no</td>\n",
              "    </tr>\n",
              "    <tr>\n",
              "      <th>4</th>\n",
              "      <td>33</td>\n",
              "      <td>unknown</td>\n",
              "      <td>single</td>\n",
              "      <td>unknown</td>\n",
              "      <td>no</td>\n",
              "      <td>1</td>\n",
              "      <td>no</td>\n",
              "      <td>no</td>\n",
              "      <td>unknown</td>\n",
              "      <td>5</td>\n",
              "      <td>may</td>\n",
              "      <td>198</td>\n",
              "      <td>1</td>\n",
              "      <td>-1</td>\n",
              "      <td>0</td>\n",
              "      <td>unknown</td>\n",
              "      <td>no</td>\n",
              "    </tr>\n",
              "  </tbody>\n",
              "</table>\n",
              "</div>\n",
              "    <div class=\"colab-df-buttons\">\n",
              "\n",
              "  <div class=\"colab-df-container\">\n",
              "    <button class=\"colab-df-convert\" onclick=\"convertToInteractive('df-36dfd892-03b3-47b6-97a5-aba2783c5be3')\"\n",
              "            title=\"Convert this dataframe to an interactive table.\"\n",
              "            style=\"display:none;\">\n",
              "\n",
              "  <svg xmlns=\"http://www.w3.org/2000/svg\" height=\"24px\" viewBox=\"0 -960 960 960\">\n",
              "    <path d=\"M120-120v-720h720v720H120Zm60-500h600v-160H180v160Zm220 220h160v-160H400v160Zm0 220h160v-160H400v160ZM180-400h160v-160H180v160Zm440 0h160v-160H620v160ZM180-180h160v-160H180v160Zm440 0h160v-160H620v160Z\"/>\n",
              "  </svg>\n",
              "    </button>\n",
              "\n",
              "  <style>\n",
              "    .colab-df-container {\n",
              "      display:flex;\n",
              "      gap: 12px;\n",
              "    }\n",
              "\n",
              "    .colab-df-convert {\n",
              "      background-color: #E8F0FE;\n",
              "      border: none;\n",
              "      border-radius: 50%;\n",
              "      cursor: pointer;\n",
              "      display: none;\n",
              "      fill: #1967D2;\n",
              "      height: 32px;\n",
              "      padding: 0 0 0 0;\n",
              "      width: 32px;\n",
              "    }\n",
              "\n",
              "    .colab-df-convert:hover {\n",
              "      background-color: #E2EBFA;\n",
              "      box-shadow: 0px 1px 2px rgba(60, 64, 67, 0.3), 0px 1px 3px 1px rgba(60, 64, 67, 0.15);\n",
              "      fill: #174EA6;\n",
              "    }\n",
              "\n",
              "    .colab-df-buttons div {\n",
              "      margin-bottom: 4px;\n",
              "    }\n",
              "\n",
              "    [theme=dark] .colab-df-convert {\n",
              "      background-color: #3B4455;\n",
              "      fill: #D2E3FC;\n",
              "    }\n",
              "\n",
              "    [theme=dark] .colab-df-convert:hover {\n",
              "      background-color: #434B5C;\n",
              "      box-shadow: 0px 1px 3px 1px rgba(0, 0, 0, 0.15);\n",
              "      filter: drop-shadow(0px 1px 2px rgba(0, 0, 0, 0.3));\n",
              "      fill: #FFFFFF;\n",
              "    }\n",
              "  </style>\n",
              "\n",
              "    <script>\n",
              "      const buttonEl =\n",
              "        document.querySelector('#df-36dfd892-03b3-47b6-97a5-aba2783c5be3 button.colab-df-convert');\n",
              "      buttonEl.style.display =\n",
              "        google.colab.kernel.accessAllowed ? 'block' : 'none';\n",
              "\n",
              "      async function convertToInteractive(key) {\n",
              "        const element = document.querySelector('#df-36dfd892-03b3-47b6-97a5-aba2783c5be3');\n",
              "        const dataTable =\n",
              "          await google.colab.kernel.invokeFunction('convertToInteractive',\n",
              "                                                    [key], {});\n",
              "        if (!dataTable) return;\n",
              "\n",
              "        const docLinkHtml = 'Like what you see? Visit the ' +\n",
              "          '<a target=\"_blank\" href=https://colab.research.google.com/notebooks/data_table.ipynb>data table notebook</a>'\n",
              "          + ' to learn more about interactive tables.';\n",
              "        element.innerHTML = '';\n",
              "        dataTable['output_type'] = 'display_data';\n",
              "        await google.colab.output.renderOutput(dataTable, element);\n",
              "        const docLink = document.createElement('div');\n",
              "        docLink.innerHTML = docLinkHtml;\n",
              "        element.appendChild(docLink);\n",
              "      }\n",
              "    </script>\n",
              "  </div>\n",
              "\n",
              "\n",
              "    <div id=\"df-606b3248-d320-4acf-ac1a-e300cd21ac75\">\n",
              "      <button class=\"colab-df-quickchart\" onclick=\"quickchart('df-606b3248-d320-4acf-ac1a-e300cd21ac75')\"\n",
              "                title=\"Suggest charts\"\n",
              "                style=\"display:none;\">\n",
              "\n",
              "<svg xmlns=\"http://www.w3.org/2000/svg\" height=\"24px\"viewBox=\"0 0 24 24\"\n",
              "     width=\"24px\">\n",
              "    <g>\n",
              "        <path d=\"M19 3H5c-1.1 0-2 .9-2 2v14c0 1.1.9 2 2 2h14c1.1 0 2-.9 2-2V5c0-1.1-.9-2-2-2zM9 17H7v-7h2v7zm4 0h-2V7h2v10zm4 0h-2v-4h2v4z\"/>\n",
              "    </g>\n",
              "</svg>\n",
              "      </button>\n",
              "\n",
              "<style>\n",
              "  .colab-df-quickchart {\n",
              "      --bg-color: #E8F0FE;\n",
              "      --fill-color: #1967D2;\n",
              "      --hover-bg-color: #E2EBFA;\n",
              "      --hover-fill-color: #174EA6;\n",
              "      --disabled-fill-color: #AAA;\n",
              "      --disabled-bg-color: #DDD;\n",
              "  }\n",
              "\n",
              "  [theme=dark] .colab-df-quickchart {\n",
              "      --bg-color: #3B4455;\n",
              "      --fill-color: #D2E3FC;\n",
              "      --hover-bg-color: #434B5C;\n",
              "      --hover-fill-color: #FFFFFF;\n",
              "      --disabled-bg-color: #3B4455;\n",
              "      --disabled-fill-color: #666;\n",
              "  }\n",
              "\n",
              "  .colab-df-quickchart {\n",
              "    background-color: var(--bg-color);\n",
              "    border: none;\n",
              "    border-radius: 50%;\n",
              "    cursor: pointer;\n",
              "    display: none;\n",
              "    fill: var(--fill-color);\n",
              "    height: 32px;\n",
              "    padding: 0;\n",
              "    width: 32px;\n",
              "  }\n",
              "\n",
              "  .colab-df-quickchart:hover {\n",
              "    background-color: var(--hover-bg-color);\n",
              "    box-shadow: 0 1px 2px rgba(60, 64, 67, 0.3), 0 1px 3px 1px rgba(60, 64, 67, 0.15);\n",
              "    fill: var(--button-hover-fill-color);\n",
              "  }\n",
              "\n",
              "  .colab-df-quickchart-complete:disabled,\n",
              "  .colab-df-quickchart-complete:disabled:hover {\n",
              "    background-color: var(--disabled-bg-color);\n",
              "    fill: var(--disabled-fill-color);\n",
              "    box-shadow: none;\n",
              "  }\n",
              "\n",
              "  .colab-df-spinner {\n",
              "    border: 2px solid var(--fill-color);\n",
              "    border-color: transparent;\n",
              "    border-bottom-color: var(--fill-color);\n",
              "    animation:\n",
              "      spin 1s steps(1) infinite;\n",
              "  }\n",
              "\n",
              "  @keyframes spin {\n",
              "    0% {\n",
              "      border-color: transparent;\n",
              "      border-bottom-color: var(--fill-color);\n",
              "      border-left-color: var(--fill-color);\n",
              "    }\n",
              "    20% {\n",
              "      border-color: transparent;\n",
              "      border-left-color: var(--fill-color);\n",
              "      border-top-color: var(--fill-color);\n",
              "    }\n",
              "    30% {\n",
              "      border-color: transparent;\n",
              "      border-left-color: var(--fill-color);\n",
              "      border-top-color: var(--fill-color);\n",
              "      border-right-color: var(--fill-color);\n",
              "    }\n",
              "    40% {\n",
              "      border-color: transparent;\n",
              "      border-right-color: var(--fill-color);\n",
              "      border-top-color: var(--fill-color);\n",
              "    }\n",
              "    60% {\n",
              "      border-color: transparent;\n",
              "      border-right-color: var(--fill-color);\n",
              "    }\n",
              "    80% {\n",
              "      border-color: transparent;\n",
              "      border-right-color: var(--fill-color);\n",
              "      border-bottom-color: var(--fill-color);\n",
              "    }\n",
              "    90% {\n",
              "      border-color: transparent;\n",
              "      border-bottom-color: var(--fill-color);\n",
              "    }\n",
              "  }\n",
              "</style>\n",
              "\n",
              "      <script>\n",
              "        async function quickchart(key) {\n",
              "          const quickchartButtonEl =\n",
              "            document.querySelector('#' + key + ' button');\n",
              "          quickchartButtonEl.disabled = true;  // To prevent multiple clicks.\n",
              "          quickchartButtonEl.classList.add('colab-df-spinner');\n",
              "          try {\n",
              "            const charts = await google.colab.kernel.invokeFunction(\n",
              "                'suggestCharts', [key], {});\n",
              "          } catch (error) {\n",
              "            console.error('Error during call to suggestCharts:', error);\n",
              "          }\n",
              "          quickchartButtonEl.classList.remove('colab-df-spinner');\n",
              "          quickchartButtonEl.classList.add('colab-df-quickchart-complete');\n",
              "        }\n",
              "        (() => {\n",
              "          let quickchartButtonEl =\n",
              "            document.querySelector('#df-606b3248-d320-4acf-ac1a-e300cd21ac75 button');\n",
              "          quickchartButtonEl.style.display =\n",
              "            google.colab.kernel.accessAllowed ? 'block' : 'none';\n",
              "        })();\n",
              "      </script>\n",
              "    </div>\n",
              "\n",
              "    </div>\n",
              "  </div>\n"
            ],
            "application/vnd.google.colaboratory.intrinsic+json": {
              "type": "dataframe",
              "variable_name": "df",
              "summary": "{\n  \"name\": \"df\",\n  \"rows\": 45211,\n  \"fields\": [\n    {\n      \"column\": \"age\",\n      \"properties\": {\n        \"dtype\": \"number\",\n        \"std\": 10,\n        \"min\": 18,\n        \"max\": 95,\n        \"num_unique_values\": 77,\n        \"samples\": [\n          35,\n          34,\n          53\n        ],\n        \"semantic_type\": \"\",\n        \"description\": \"\"\n      }\n    },\n    {\n      \"column\": \"job\",\n      \"properties\": {\n        \"dtype\": \"category\",\n        \"num_unique_values\": 12,\n        \"samples\": [\n          \"housemaid\",\n          \"unemployed\",\n          \"management\"\n        ],\n        \"semantic_type\": \"\",\n        \"description\": \"\"\n      }\n    },\n    {\n      \"column\": \"marital\",\n      \"properties\": {\n        \"dtype\": \"category\",\n        \"num_unique_values\": 3,\n        \"samples\": [\n          \"married\",\n          \"single\",\n          \"divorced\"\n        ],\n        \"semantic_type\": \"\",\n        \"description\": \"\"\n      }\n    },\n    {\n      \"column\": \"education\",\n      \"properties\": {\n        \"dtype\": \"category\",\n        \"num_unique_values\": 4,\n        \"samples\": [\n          \"secondary\",\n          \"primary\",\n          \"tertiary\"\n        ],\n        \"semantic_type\": \"\",\n        \"description\": \"\"\n      }\n    },\n    {\n      \"column\": \"default\",\n      \"properties\": {\n        \"dtype\": \"category\",\n        \"num_unique_values\": 2,\n        \"samples\": [\n          \"yes\",\n          \"no\"\n        ],\n        \"semantic_type\": \"\",\n        \"description\": \"\"\n      }\n    },\n    {\n      \"column\": \"balance\",\n      \"properties\": {\n        \"dtype\": \"number\",\n        \"std\": 3044,\n        \"min\": -8019,\n        \"max\": 102127,\n        \"num_unique_values\": 7168,\n        \"samples\": [\n          3276,\n          43\n        ],\n        \"semantic_type\": \"\",\n        \"description\": \"\"\n      }\n    },\n    {\n      \"column\": \"housing\",\n      \"properties\": {\n        \"dtype\": \"category\",\n        \"num_unique_values\": 2,\n        \"samples\": [\n          \"no\",\n          \"yes\"\n        ],\n        \"semantic_type\": \"\",\n        \"description\": \"\"\n      }\n    },\n    {\n      \"column\": \"loan\",\n      \"properties\": {\n        \"dtype\": \"category\",\n        \"num_unique_values\": 2,\n        \"samples\": [\n          \"yes\",\n          \"no\"\n        ],\n        \"semantic_type\": \"\",\n        \"description\": \"\"\n      }\n    },\n    {\n      \"column\": \"contact\",\n      \"properties\": {\n        \"dtype\": \"category\",\n        \"num_unique_values\": 3,\n        \"samples\": [\n          \"unknown\",\n          \"cellular\"\n        ],\n        \"semantic_type\": \"\",\n        \"description\": \"\"\n      }\n    },\n    {\n      \"column\": \"day\",\n      \"properties\": {\n        \"dtype\": \"number\",\n        \"std\": 8,\n        \"min\": 1,\n        \"max\": 31,\n        \"num_unique_values\": 31,\n        \"samples\": [\n          1,\n          27\n        ],\n        \"semantic_type\": \"\",\n        \"description\": \"\"\n      }\n    },\n    {\n      \"column\": \"month\",\n      \"properties\": {\n        \"dtype\": \"category\",\n        \"num_unique_values\": 12,\n        \"samples\": [\n          \"apr\",\n          \"mar\"\n        ],\n        \"semantic_type\": \"\",\n        \"description\": \"\"\n      }\n    },\n    {\n      \"column\": \"duration\",\n      \"properties\": {\n        \"dtype\": \"number\",\n        \"std\": 257,\n        \"min\": 0,\n        \"max\": 4918,\n        \"num_unique_values\": 1573,\n        \"samples\": [\n          835,\n          1135\n        ],\n        \"semantic_type\": \"\",\n        \"description\": \"\"\n      }\n    },\n    {\n      \"column\": \"campaign\",\n      \"properties\": {\n        \"dtype\": \"number\",\n        \"std\": 3,\n        \"min\": 1,\n        \"max\": 63,\n        \"num_unique_values\": 48,\n        \"samples\": [\n          41,\n          27\n        ],\n        \"semantic_type\": \"\",\n        \"description\": \"\"\n      }\n    },\n    {\n      \"column\": \"pdays\",\n      \"properties\": {\n        \"dtype\": \"number\",\n        \"std\": 100,\n        \"min\": -1,\n        \"max\": 871,\n        \"num_unique_values\": 559,\n        \"samples\": [\n          249,\n          551\n        ],\n        \"semantic_type\": \"\",\n        \"description\": \"\"\n      }\n    },\n    {\n      \"column\": \"previous\",\n      \"properties\": {\n        \"dtype\": \"number\",\n        \"std\": 2,\n        \"min\": 0,\n        \"max\": 275,\n        \"num_unique_values\": 41,\n        \"samples\": [\n          17,\n          9\n        ],\n        \"semantic_type\": \"\",\n        \"description\": \"\"\n      }\n    },\n    {\n      \"column\": \"poutcome\",\n      \"properties\": {\n        \"dtype\": \"category\",\n        \"num_unique_values\": 4,\n        \"samples\": [\n          \"failure\",\n          \"success\"\n        ],\n        \"semantic_type\": \"\",\n        \"description\": \"\"\n      }\n    },\n    {\n      \"column\": \"y\",\n      \"properties\": {\n        \"dtype\": \"category\",\n        \"num_unique_values\": 2,\n        \"samples\": [\n          \"yes\",\n          \"no\"\n        ],\n        \"semantic_type\": \"\",\n        \"description\": \"\"\n      }\n    }\n  ]\n}"
            }
          },
          "metadata": {},
          "execution_count": 3
        }
      ],
      "source": [
        "# Loading the data\n",
        "# Read the csv file using a seperator \";\"\n",
        "df = pd.read_csv('/content/drive/MyDrive/model_evaluation_and_tuning/bank-full.csv', sep=';')\n",
        "\n",
        "# Viewing the data\n",
        "df.head()"
      ]
    },
    {
      "cell_type": "markdown",
      "id": "zAWBd6tVvfMj",
      "metadata": {
        "id": "zAWBd6tVvfMj"
      },
      "source": [
        "### 2.2 View the columns of the data and understand them"
      ]
    },
    {
      "cell_type": "code",
      "execution_count": null,
      "id": "g2ugOQWXFoGZ",
      "metadata": {
        "colab": {
          "base_uri": "https://localhost:8080/"
        },
        "id": "g2ugOQWXFoGZ",
        "outputId": "42a0c010-8183-4fa9-c9ae-0256c93a44e3"
      },
      "outputs": [
        {
          "output_type": "execute_result",
          "data": {
            "text/plain": [
              "Index(['age', 'job', 'marital', 'education', 'default', 'balance', 'housing',\n",
              "       'loan', 'contact', 'day', 'month', 'duration', 'campaign', 'pdays',\n",
              "       'previous', 'poutcome', 'y'],\n",
              "      dtype='object')"
            ]
          },
          "metadata": {},
          "execution_count": 4
        }
      ],
      "source": [
        "# View the columns of the dataset\n",
        "df.columns"
      ]
    },
    {
      "cell_type": "markdown",
      "id": "Q6dRlFFVvsDA",
      "metadata": {
        "id": "Q6dRlFFVvsDA"
      },
      "source": [
        "### 2.3 Check the shape of the dataset"
      ]
    },
    {
      "cell_type": "code",
      "execution_count": null,
      "id": "6V7JM4GgF1OH",
      "metadata": {
        "colab": {
          "base_uri": "https://localhost:8080/"
        },
        "id": "6V7JM4GgF1OH",
        "outputId": "d5af8423-e724-4cb8-b013-c7fcfdb49dd0"
      },
      "outputs": [
        {
          "output_type": "execute_result",
          "data": {
            "text/plain": [
              "(45211, 17)"
            ]
          },
          "metadata": {},
          "execution_count": 5
        }
      ],
      "source": [
        "# Checking the shape of the data\n",
        "df.shape"
      ]
    },
    {
      "cell_type": "markdown",
      "id": "gdN7e6FVw0s7",
      "metadata": {
        "id": "gdN7e6FVw0s7"
      },
      "source": [
        "### 2.4 Understand the datatypes of each of the columns"
      ]
    },
    {
      "cell_type": "code",
      "execution_count": null,
      "id": "8sFOJH8TGLtl",
      "metadata": {
        "colab": {
          "base_uri": "https://localhost:8080/"
        },
        "id": "8sFOJH8TGLtl",
        "outputId": "317de1fc-5960-4b2b-df37-62b172a2d15b"
      },
      "outputs": [
        {
          "output_type": "stream",
          "name": "stdout",
          "text": [
            "<class 'pandas.core.frame.DataFrame'>\n",
            "RangeIndex: 45211 entries, 0 to 45210\n",
            "Data columns (total 17 columns):\n",
            " #   Column     Non-Null Count  Dtype \n",
            "---  ------     --------------  ----- \n",
            " 0   age        45211 non-null  int64 \n",
            " 1   job        45211 non-null  object\n",
            " 2   marital    45211 non-null  object\n",
            " 3   education  45211 non-null  object\n",
            " 4   default    45211 non-null  object\n",
            " 5   balance    45211 non-null  int64 \n",
            " 6   housing    45211 non-null  object\n",
            " 7   loan       45211 non-null  object\n",
            " 8   contact    45211 non-null  object\n",
            " 9   day        45211 non-null  int64 \n",
            " 10  month      45211 non-null  object\n",
            " 11  duration   45211 non-null  int64 \n",
            " 12  campaign   45211 non-null  int64 \n",
            " 13  pdays      45211 non-null  int64 \n",
            " 14  previous   45211 non-null  int64 \n",
            " 15  poutcome   45211 non-null  object\n",
            " 16  y          45211 non-null  object\n",
            "dtypes: int64(7), object(10)\n",
            "memory usage: 5.9+ MB\n"
          ]
        }
      ],
      "source": [
        "# Check the dataset info\n",
        "df.info()"
      ]
    },
    {
      "cell_type": "markdown",
      "id": "p92AdEjQMFna",
      "metadata": {
        "id": "p92AdEjQMFna"
      },
      "source": [
        "### 2.5 Get a summary of the dataset using the describe method."
      ]
    },
    {
      "cell_type": "code",
      "execution_count": null,
      "id": "IdwtJKjuMI_a",
      "metadata": {
        "colab": {
          "base_uri": "https://localhost:8080/",
          "height": 395
        },
        "id": "IdwtJKjuMI_a",
        "outputId": "fd82f1d4-44ec-469d-ac8d-447c12346a07"
      },
      "outputs": [
        {
          "output_type": "execute_result",
          "data": {
            "text/plain": [
              "                 age          job  marital  education default        balance  \\\n",
              "count   45211.000000        45211    45211      45211   45211   45211.000000   \n",
              "unique           NaN           12        3          4       2            NaN   \n",
              "top              NaN  blue-collar  married  secondary      no            NaN   \n",
              "freq             NaN         9732    27214      23202   44396            NaN   \n",
              "mean       40.936210          NaN      NaN        NaN     NaN    1362.272058   \n",
              "std        10.618762          NaN      NaN        NaN     NaN    3044.765829   \n",
              "min        18.000000          NaN      NaN        NaN     NaN   -8019.000000   \n",
              "25%        33.000000          NaN      NaN        NaN     NaN      72.000000   \n",
              "50%        39.000000          NaN      NaN        NaN     NaN     448.000000   \n",
              "75%        48.000000          NaN      NaN        NaN     NaN    1428.000000   \n",
              "max        95.000000          NaN      NaN        NaN     NaN  102127.000000   \n",
              "\n",
              "       housing   loan   contact           day  month      duration  \\\n",
              "count    45211  45211     45211  45211.000000  45211  45211.000000   \n",
              "unique       2      2         3           NaN     12           NaN   \n",
              "top        yes     no  cellular           NaN    may           NaN   \n",
              "freq     25130  37967     29285           NaN  13766           NaN   \n",
              "mean       NaN    NaN       NaN     15.806419    NaN    258.163080   \n",
              "std        NaN    NaN       NaN      8.322476    NaN    257.527812   \n",
              "min        NaN    NaN       NaN      1.000000    NaN      0.000000   \n",
              "25%        NaN    NaN       NaN      8.000000    NaN    103.000000   \n",
              "50%        NaN    NaN       NaN     16.000000    NaN    180.000000   \n",
              "75%        NaN    NaN       NaN     21.000000    NaN    319.000000   \n",
              "max        NaN    NaN       NaN     31.000000    NaN   4918.000000   \n",
              "\n",
              "            campaign         pdays      previous poutcome      y  \n",
              "count   45211.000000  45211.000000  45211.000000    45211  45211  \n",
              "unique           NaN           NaN           NaN        4      2  \n",
              "top              NaN           NaN           NaN  unknown     no  \n",
              "freq             NaN           NaN           NaN    36959  39922  \n",
              "mean        2.763841     40.197828      0.580323      NaN    NaN  \n",
              "std         3.098021    100.128746      2.303441      NaN    NaN  \n",
              "min         1.000000     -1.000000      0.000000      NaN    NaN  \n",
              "25%         1.000000     -1.000000      0.000000      NaN    NaN  \n",
              "50%         2.000000     -1.000000      0.000000      NaN    NaN  \n",
              "75%         3.000000     -1.000000      0.000000      NaN    NaN  \n",
              "max        63.000000    871.000000    275.000000      NaN    NaN  "
            ],
            "text/html": [
              "\n",
              "  <div id=\"df-ee78c0c0-a636-484a-b30b-d7738848c342\" class=\"colab-df-container\">\n",
              "    <div>\n",
              "<style scoped>\n",
              "    .dataframe tbody tr th:only-of-type {\n",
              "        vertical-align: middle;\n",
              "    }\n",
              "\n",
              "    .dataframe tbody tr th {\n",
              "        vertical-align: top;\n",
              "    }\n",
              "\n",
              "    .dataframe thead th {\n",
              "        text-align: right;\n",
              "    }\n",
              "</style>\n",
              "<table border=\"1\" class=\"dataframe\">\n",
              "  <thead>\n",
              "    <tr style=\"text-align: right;\">\n",
              "      <th></th>\n",
              "      <th>age</th>\n",
              "      <th>job</th>\n",
              "      <th>marital</th>\n",
              "      <th>education</th>\n",
              "      <th>default</th>\n",
              "      <th>balance</th>\n",
              "      <th>housing</th>\n",
              "      <th>loan</th>\n",
              "      <th>contact</th>\n",
              "      <th>day</th>\n",
              "      <th>month</th>\n",
              "      <th>duration</th>\n",
              "      <th>campaign</th>\n",
              "      <th>pdays</th>\n",
              "      <th>previous</th>\n",
              "      <th>poutcome</th>\n",
              "      <th>y</th>\n",
              "    </tr>\n",
              "  </thead>\n",
              "  <tbody>\n",
              "    <tr>\n",
              "      <th>count</th>\n",
              "      <td>45211.000000</td>\n",
              "      <td>45211</td>\n",
              "      <td>45211</td>\n",
              "      <td>45211</td>\n",
              "      <td>45211</td>\n",
              "      <td>45211.000000</td>\n",
              "      <td>45211</td>\n",
              "      <td>45211</td>\n",
              "      <td>45211</td>\n",
              "      <td>45211.000000</td>\n",
              "      <td>45211</td>\n",
              "      <td>45211.000000</td>\n",
              "      <td>45211.000000</td>\n",
              "      <td>45211.000000</td>\n",
              "      <td>45211.000000</td>\n",
              "      <td>45211</td>\n",
              "      <td>45211</td>\n",
              "    </tr>\n",
              "    <tr>\n",
              "      <th>unique</th>\n",
              "      <td>NaN</td>\n",
              "      <td>12</td>\n",
              "      <td>3</td>\n",
              "      <td>4</td>\n",
              "      <td>2</td>\n",
              "      <td>NaN</td>\n",
              "      <td>2</td>\n",
              "      <td>2</td>\n",
              "      <td>3</td>\n",
              "      <td>NaN</td>\n",
              "      <td>12</td>\n",
              "      <td>NaN</td>\n",
              "      <td>NaN</td>\n",
              "      <td>NaN</td>\n",
              "      <td>NaN</td>\n",
              "      <td>4</td>\n",
              "      <td>2</td>\n",
              "    </tr>\n",
              "    <tr>\n",
              "      <th>top</th>\n",
              "      <td>NaN</td>\n",
              "      <td>blue-collar</td>\n",
              "      <td>married</td>\n",
              "      <td>secondary</td>\n",
              "      <td>no</td>\n",
              "      <td>NaN</td>\n",
              "      <td>yes</td>\n",
              "      <td>no</td>\n",
              "      <td>cellular</td>\n",
              "      <td>NaN</td>\n",
              "      <td>may</td>\n",
              "      <td>NaN</td>\n",
              "      <td>NaN</td>\n",
              "      <td>NaN</td>\n",
              "      <td>NaN</td>\n",
              "      <td>unknown</td>\n",
              "      <td>no</td>\n",
              "    </tr>\n",
              "    <tr>\n",
              "      <th>freq</th>\n",
              "      <td>NaN</td>\n",
              "      <td>9732</td>\n",
              "      <td>27214</td>\n",
              "      <td>23202</td>\n",
              "      <td>44396</td>\n",
              "      <td>NaN</td>\n",
              "      <td>25130</td>\n",
              "      <td>37967</td>\n",
              "      <td>29285</td>\n",
              "      <td>NaN</td>\n",
              "      <td>13766</td>\n",
              "      <td>NaN</td>\n",
              "      <td>NaN</td>\n",
              "      <td>NaN</td>\n",
              "      <td>NaN</td>\n",
              "      <td>36959</td>\n",
              "      <td>39922</td>\n",
              "    </tr>\n",
              "    <tr>\n",
              "      <th>mean</th>\n",
              "      <td>40.936210</td>\n",
              "      <td>NaN</td>\n",
              "      <td>NaN</td>\n",
              "      <td>NaN</td>\n",
              "      <td>NaN</td>\n",
              "      <td>1362.272058</td>\n",
              "      <td>NaN</td>\n",
              "      <td>NaN</td>\n",
              "      <td>NaN</td>\n",
              "      <td>15.806419</td>\n",
              "      <td>NaN</td>\n",
              "      <td>258.163080</td>\n",
              "      <td>2.763841</td>\n",
              "      <td>40.197828</td>\n",
              "      <td>0.580323</td>\n",
              "      <td>NaN</td>\n",
              "      <td>NaN</td>\n",
              "    </tr>\n",
              "    <tr>\n",
              "      <th>std</th>\n",
              "      <td>10.618762</td>\n",
              "      <td>NaN</td>\n",
              "      <td>NaN</td>\n",
              "      <td>NaN</td>\n",
              "      <td>NaN</td>\n",
              "      <td>3044.765829</td>\n",
              "      <td>NaN</td>\n",
              "      <td>NaN</td>\n",
              "      <td>NaN</td>\n",
              "      <td>8.322476</td>\n",
              "      <td>NaN</td>\n",
              "      <td>257.527812</td>\n",
              "      <td>3.098021</td>\n",
              "      <td>100.128746</td>\n",
              "      <td>2.303441</td>\n",
              "      <td>NaN</td>\n",
              "      <td>NaN</td>\n",
              "    </tr>\n",
              "    <tr>\n",
              "      <th>min</th>\n",
              "      <td>18.000000</td>\n",
              "      <td>NaN</td>\n",
              "      <td>NaN</td>\n",
              "      <td>NaN</td>\n",
              "      <td>NaN</td>\n",
              "      <td>-8019.000000</td>\n",
              "      <td>NaN</td>\n",
              "      <td>NaN</td>\n",
              "      <td>NaN</td>\n",
              "      <td>1.000000</td>\n",
              "      <td>NaN</td>\n",
              "      <td>0.000000</td>\n",
              "      <td>1.000000</td>\n",
              "      <td>-1.000000</td>\n",
              "      <td>0.000000</td>\n",
              "      <td>NaN</td>\n",
              "      <td>NaN</td>\n",
              "    </tr>\n",
              "    <tr>\n",
              "      <th>25%</th>\n",
              "      <td>33.000000</td>\n",
              "      <td>NaN</td>\n",
              "      <td>NaN</td>\n",
              "      <td>NaN</td>\n",
              "      <td>NaN</td>\n",
              "      <td>72.000000</td>\n",
              "      <td>NaN</td>\n",
              "      <td>NaN</td>\n",
              "      <td>NaN</td>\n",
              "      <td>8.000000</td>\n",
              "      <td>NaN</td>\n",
              "      <td>103.000000</td>\n",
              "      <td>1.000000</td>\n",
              "      <td>-1.000000</td>\n",
              "      <td>0.000000</td>\n",
              "      <td>NaN</td>\n",
              "      <td>NaN</td>\n",
              "    </tr>\n",
              "    <tr>\n",
              "      <th>50%</th>\n",
              "      <td>39.000000</td>\n",
              "      <td>NaN</td>\n",
              "      <td>NaN</td>\n",
              "      <td>NaN</td>\n",
              "      <td>NaN</td>\n",
              "      <td>448.000000</td>\n",
              "      <td>NaN</td>\n",
              "      <td>NaN</td>\n",
              "      <td>NaN</td>\n",
              "      <td>16.000000</td>\n",
              "      <td>NaN</td>\n",
              "      <td>180.000000</td>\n",
              "      <td>2.000000</td>\n",
              "      <td>-1.000000</td>\n",
              "      <td>0.000000</td>\n",
              "      <td>NaN</td>\n",
              "      <td>NaN</td>\n",
              "    </tr>\n",
              "    <tr>\n",
              "      <th>75%</th>\n",
              "      <td>48.000000</td>\n",
              "      <td>NaN</td>\n",
              "      <td>NaN</td>\n",
              "      <td>NaN</td>\n",
              "      <td>NaN</td>\n",
              "      <td>1428.000000</td>\n",
              "      <td>NaN</td>\n",
              "      <td>NaN</td>\n",
              "      <td>NaN</td>\n",
              "      <td>21.000000</td>\n",
              "      <td>NaN</td>\n",
              "      <td>319.000000</td>\n",
              "      <td>3.000000</td>\n",
              "      <td>-1.000000</td>\n",
              "      <td>0.000000</td>\n",
              "      <td>NaN</td>\n",
              "      <td>NaN</td>\n",
              "    </tr>\n",
              "    <tr>\n",
              "      <th>max</th>\n",
              "      <td>95.000000</td>\n",
              "      <td>NaN</td>\n",
              "      <td>NaN</td>\n",
              "      <td>NaN</td>\n",
              "      <td>NaN</td>\n",
              "      <td>102127.000000</td>\n",
              "      <td>NaN</td>\n",
              "      <td>NaN</td>\n",
              "      <td>NaN</td>\n",
              "      <td>31.000000</td>\n",
              "      <td>NaN</td>\n",
              "      <td>4918.000000</td>\n",
              "      <td>63.000000</td>\n",
              "      <td>871.000000</td>\n",
              "      <td>275.000000</td>\n",
              "      <td>NaN</td>\n",
              "      <td>NaN</td>\n",
              "    </tr>\n",
              "  </tbody>\n",
              "</table>\n",
              "</div>\n",
              "    <div class=\"colab-df-buttons\">\n",
              "\n",
              "  <div class=\"colab-df-container\">\n",
              "    <button class=\"colab-df-convert\" onclick=\"convertToInteractive('df-ee78c0c0-a636-484a-b30b-d7738848c342')\"\n",
              "            title=\"Convert this dataframe to an interactive table.\"\n",
              "            style=\"display:none;\">\n",
              "\n",
              "  <svg xmlns=\"http://www.w3.org/2000/svg\" height=\"24px\" viewBox=\"0 -960 960 960\">\n",
              "    <path d=\"M120-120v-720h720v720H120Zm60-500h600v-160H180v160Zm220 220h160v-160H400v160Zm0 220h160v-160H400v160ZM180-400h160v-160H180v160Zm440 0h160v-160H620v160ZM180-180h160v-160H180v160Zm440 0h160v-160H620v160Z\"/>\n",
              "  </svg>\n",
              "    </button>\n",
              "\n",
              "  <style>\n",
              "    .colab-df-container {\n",
              "      display:flex;\n",
              "      gap: 12px;\n",
              "    }\n",
              "\n",
              "    .colab-df-convert {\n",
              "      background-color: #E8F0FE;\n",
              "      border: none;\n",
              "      border-radius: 50%;\n",
              "      cursor: pointer;\n",
              "      display: none;\n",
              "      fill: #1967D2;\n",
              "      height: 32px;\n",
              "      padding: 0 0 0 0;\n",
              "      width: 32px;\n",
              "    }\n",
              "\n",
              "    .colab-df-convert:hover {\n",
              "      background-color: #E2EBFA;\n",
              "      box-shadow: 0px 1px 2px rgba(60, 64, 67, 0.3), 0px 1px 3px 1px rgba(60, 64, 67, 0.15);\n",
              "      fill: #174EA6;\n",
              "    }\n",
              "\n",
              "    .colab-df-buttons div {\n",
              "      margin-bottom: 4px;\n",
              "    }\n",
              "\n",
              "    [theme=dark] .colab-df-convert {\n",
              "      background-color: #3B4455;\n",
              "      fill: #D2E3FC;\n",
              "    }\n",
              "\n",
              "    [theme=dark] .colab-df-convert:hover {\n",
              "      background-color: #434B5C;\n",
              "      box-shadow: 0px 1px 3px 1px rgba(0, 0, 0, 0.15);\n",
              "      filter: drop-shadow(0px 1px 2px rgba(0, 0, 0, 0.3));\n",
              "      fill: #FFFFFF;\n",
              "    }\n",
              "  </style>\n",
              "\n",
              "    <script>\n",
              "      const buttonEl =\n",
              "        document.querySelector('#df-ee78c0c0-a636-484a-b30b-d7738848c342 button.colab-df-convert');\n",
              "      buttonEl.style.display =\n",
              "        google.colab.kernel.accessAllowed ? 'block' : 'none';\n",
              "\n",
              "      async function convertToInteractive(key) {\n",
              "        const element = document.querySelector('#df-ee78c0c0-a636-484a-b30b-d7738848c342');\n",
              "        const dataTable =\n",
              "          await google.colab.kernel.invokeFunction('convertToInteractive',\n",
              "                                                    [key], {});\n",
              "        if (!dataTable) return;\n",
              "\n",
              "        const docLinkHtml = 'Like what you see? Visit the ' +\n",
              "          '<a target=\"_blank\" href=https://colab.research.google.com/notebooks/data_table.ipynb>data table notebook</a>'\n",
              "          + ' to learn more about interactive tables.';\n",
              "        element.innerHTML = '';\n",
              "        dataTable['output_type'] = 'display_data';\n",
              "        await google.colab.output.renderOutput(dataTable, element);\n",
              "        const docLink = document.createElement('div');\n",
              "        docLink.innerHTML = docLinkHtml;\n",
              "        element.appendChild(docLink);\n",
              "      }\n",
              "    </script>\n",
              "  </div>\n",
              "\n",
              "\n",
              "    <div id=\"df-7931d9d5-d83f-4d9a-a53a-c1bcae21d17c\">\n",
              "      <button class=\"colab-df-quickchart\" onclick=\"quickchart('df-7931d9d5-d83f-4d9a-a53a-c1bcae21d17c')\"\n",
              "                title=\"Suggest charts\"\n",
              "                style=\"display:none;\">\n",
              "\n",
              "<svg xmlns=\"http://www.w3.org/2000/svg\" height=\"24px\"viewBox=\"0 0 24 24\"\n",
              "     width=\"24px\">\n",
              "    <g>\n",
              "        <path d=\"M19 3H5c-1.1 0-2 .9-2 2v14c0 1.1.9 2 2 2h14c1.1 0 2-.9 2-2V5c0-1.1-.9-2-2-2zM9 17H7v-7h2v7zm4 0h-2V7h2v10zm4 0h-2v-4h2v4z\"/>\n",
              "    </g>\n",
              "</svg>\n",
              "      </button>\n",
              "\n",
              "<style>\n",
              "  .colab-df-quickchart {\n",
              "      --bg-color: #E8F0FE;\n",
              "      --fill-color: #1967D2;\n",
              "      --hover-bg-color: #E2EBFA;\n",
              "      --hover-fill-color: #174EA6;\n",
              "      --disabled-fill-color: #AAA;\n",
              "      --disabled-bg-color: #DDD;\n",
              "  }\n",
              "\n",
              "  [theme=dark] .colab-df-quickchart {\n",
              "      --bg-color: #3B4455;\n",
              "      --fill-color: #D2E3FC;\n",
              "      --hover-bg-color: #434B5C;\n",
              "      --hover-fill-color: #FFFFFF;\n",
              "      --disabled-bg-color: #3B4455;\n",
              "      --disabled-fill-color: #666;\n",
              "  }\n",
              "\n",
              "  .colab-df-quickchart {\n",
              "    background-color: var(--bg-color);\n",
              "    border: none;\n",
              "    border-radius: 50%;\n",
              "    cursor: pointer;\n",
              "    display: none;\n",
              "    fill: var(--fill-color);\n",
              "    height: 32px;\n",
              "    padding: 0;\n",
              "    width: 32px;\n",
              "  }\n",
              "\n",
              "  .colab-df-quickchart:hover {\n",
              "    background-color: var(--hover-bg-color);\n",
              "    box-shadow: 0 1px 2px rgba(60, 64, 67, 0.3), 0 1px 3px 1px rgba(60, 64, 67, 0.15);\n",
              "    fill: var(--button-hover-fill-color);\n",
              "  }\n",
              "\n",
              "  .colab-df-quickchart-complete:disabled,\n",
              "  .colab-df-quickchart-complete:disabled:hover {\n",
              "    background-color: var(--disabled-bg-color);\n",
              "    fill: var(--disabled-fill-color);\n",
              "    box-shadow: none;\n",
              "  }\n",
              "\n",
              "  .colab-df-spinner {\n",
              "    border: 2px solid var(--fill-color);\n",
              "    border-color: transparent;\n",
              "    border-bottom-color: var(--fill-color);\n",
              "    animation:\n",
              "      spin 1s steps(1) infinite;\n",
              "  }\n",
              "\n",
              "  @keyframes spin {\n",
              "    0% {\n",
              "      border-color: transparent;\n",
              "      border-bottom-color: var(--fill-color);\n",
              "      border-left-color: var(--fill-color);\n",
              "    }\n",
              "    20% {\n",
              "      border-color: transparent;\n",
              "      border-left-color: var(--fill-color);\n",
              "      border-top-color: var(--fill-color);\n",
              "    }\n",
              "    30% {\n",
              "      border-color: transparent;\n",
              "      border-left-color: var(--fill-color);\n",
              "      border-top-color: var(--fill-color);\n",
              "      border-right-color: var(--fill-color);\n",
              "    }\n",
              "    40% {\n",
              "      border-color: transparent;\n",
              "      border-right-color: var(--fill-color);\n",
              "      border-top-color: var(--fill-color);\n",
              "    }\n",
              "    60% {\n",
              "      border-color: transparent;\n",
              "      border-right-color: var(--fill-color);\n",
              "    }\n",
              "    80% {\n",
              "      border-color: transparent;\n",
              "      border-right-color: var(--fill-color);\n",
              "      border-bottom-color: var(--fill-color);\n",
              "    }\n",
              "    90% {\n",
              "      border-color: transparent;\n",
              "      border-bottom-color: var(--fill-color);\n",
              "    }\n",
              "  }\n",
              "</style>\n",
              "\n",
              "      <script>\n",
              "        async function quickchart(key) {\n",
              "          const quickchartButtonEl =\n",
              "            document.querySelector('#' + key + ' button');\n",
              "          quickchartButtonEl.disabled = true;  // To prevent multiple clicks.\n",
              "          quickchartButtonEl.classList.add('colab-df-spinner');\n",
              "          try {\n",
              "            const charts = await google.colab.kernel.invokeFunction(\n",
              "                'suggestCharts', [key], {});\n",
              "          } catch (error) {\n",
              "            console.error('Error during call to suggestCharts:', error);\n",
              "          }\n",
              "          quickchartButtonEl.classList.remove('colab-df-spinner');\n",
              "          quickchartButtonEl.classList.add('colab-df-quickchart-complete');\n",
              "        }\n",
              "        (() => {\n",
              "          let quickchartButtonEl =\n",
              "            document.querySelector('#df-7931d9d5-d83f-4d9a-a53a-c1bcae21d17c button');\n",
              "          quickchartButtonEl.style.display =\n",
              "            google.colab.kernel.accessAllowed ? 'block' : 'none';\n",
              "        })();\n",
              "      </script>\n",
              "    </div>\n",
              "\n",
              "    </div>\n",
              "  </div>\n"
            ],
            "application/vnd.google.colaboratory.intrinsic+json": {
              "type": "dataframe",
              "summary": "{\n  \"name\": \"df\",\n  \"rows\": 11,\n  \"fields\": [\n    {\n      \"column\": \"age\",\n      \"properties\": {\n        \"dtype\": \"number\",\n        \"std\": 15970.150201692022,\n        \"min\": 10.618762040975431,\n        \"max\": 45211.0,\n        \"num_unique_values\": 8,\n        \"samples\": [\n          40.93621021432837,\n          39.0,\n          45211.0\n        ],\n        \"semantic_type\": \"\",\n        \"description\": \"\"\n      }\n    },\n    {\n      \"column\": \"job\",\n      \"properties\": {\n        \"dtype\": \"category\",\n        \"num_unique_values\": 4,\n        \"samples\": [\n          12,\n          \"9732\",\n          \"45211\"\n        ],\n        \"semantic_type\": \"\",\n        \"description\": \"\"\n      }\n    },\n    {\n      \"column\": \"marital\",\n      \"properties\": {\n        \"dtype\": \"category\",\n        \"num_unique_values\": 4,\n        \"samples\": [\n          3,\n          \"27214\",\n          \"45211\"\n        ],\n        \"semantic_type\": \"\",\n        \"description\": \"\"\n      }\n    },\n    {\n      \"column\": \"education\",\n      \"properties\": {\n        \"dtype\": \"category\",\n        \"num_unique_values\": 4,\n        \"samples\": [\n          4,\n          \"23202\",\n          \"45211\"\n        ],\n        \"semantic_type\": \"\",\n        \"description\": \"\"\n      }\n    },\n    {\n      \"column\": \"default\",\n      \"properties\": {\n        \"dtype\": \"category\",\n        \"num_unique_values\": 4,\n        \"samples\": [\n          2,\n          \"44396\",\n          \"45211\"\n        ],\n        \"semantic_type\": \"\",\n        \"description\": \"\"\n      }\n    },\n    {\n      \"column\": \"balance\",\n      \"properties\": {\n        \"dtype\": \"number\",\n        \"std\": 37605.126555585215,\n        \"min\": -8019.0,\n        \"max\": 102127.0,\n        \"num_unique_values\": 8,\n        \"samples\": [\n          1362.2720576850766,\n          448.0,\n          45211.0\n        ],\n        \"semantic_type\": \"\",\n        \"description\": \"\"\n      }\n    },\n    {\n      \"column\": \"housing\",\n      \"properties\": {\n        \"dtype\": \"category\",\n        \"num_unique_values\": 4,\n        \"samples\": [\n          2,\n          \"25130\",\n          \"45211\"\n        ],\n        \"semantic_type\": \"\",\n        \"description\": \"\"\n      }\n    },\n    {\n      \"column\": \"loan\",\n      \"properties\": {\n        \"dtype\": \"category\",\n        \"num_unique_values\": 4,\n        \"samples\": [\n          2,\n          \"37967\",\n          \"45211\"\n        ],\n        \"semantic_type\": \"\",\n        \"description\": \"\"\n      }\n    },\n    {\n      \"column\": \"contact\",\n      \"properties\": {\n        \"dtype\": \"category\",\n        \"num_unique_values\": 4,\n        \"samples\": [\n          3,\n          \"29285\",\n          \"45211\"\n        ],\n        \"semantic_type\": \"\",\n        \"description\": \"\"\n      }\n    },\n    {\n      \"column\": \"day\",\n      \"properties\": {\n        \"dtype\": \"number\",\n        \"std\": 15979.397159121005,\n        \"min\": 1.0,\n        \"max\": 45211.0,\n        \"num_unique_values\": 8,\n        \"samples\": [\n          15.80641879188693,\n          16.0,\n          45211.0\n        ],\n        \"semantic_type\": \"\",\n        \"description\": \"\"\n      }\n    },\n    {\n      \"column\": \"month\",\n      \"properties\": {\n        \"dtype\": \"category\",\n        \"num_unique_values\": 4,\n        \"samples\": [\n          12,\n          \"13766\",\n          \"45211\"\n        ],\n        \"semantic_type\": \"\",\n        \"description\": \"\"\n      }\n    },\n    {\n      \"column\": \"duration\",\n      \"properties\": {\n        \"dtype\": \"number\",\n        \"std\": 15767.149700866448,\n        \"min\": 0.0,\n        \"max\": 45211.0,\n        \"num_unique_values\": 8,\n        \"samples\": [\n          258.1630797814691,\n          180.0,\n          45211.0\n        ],\n        \"semantic_type\": \"\",\n        \"description\": \"\"\n      }\n    },\n    {\n      \"column\": \"campaign\",\n      \"properties\": {\n        \"dtype\": \"number\",\n        \"std\": 15980.684949017386,\n        \"min\": 1.0,\n        \"max\": 45211.0,\n        \"num_unique_values\": 7,\n        \"samples\": [\n          45211.0,\n          2.763840658246887,\n          3.0\n        ],\n        \"semantic_type\": \"\",\n        \"description\": \"\"\n      }\n    },\n    {\n      \"column\": \"pdays\",\n      \"properties\": {\n        \"dtype\": \"number\",\n        \"std\": 15936.427694880493,\n        \"min\": -1.0,\n        \"max\": 45211.0,\n        \"num_unique_values\": 5,\n        \"samples\": [\n          40.19782796222158,\n          871.0,\n          100.1287459906047\n        ],\n        \"semantic_type\": \"\",\n        \"description\": \"\"\n      }\n    },\n    {\n      \"column\": \"previous\",\n      \"properties\": {\n        \"dtype\": \"number\",\n        \"std\": 15970.756012949014,\n        \"min\": 0.0,\n        \"max\": 45211.0,\n        \"num_unique_values\": 5,\n        \"samples\": [\n          0.5803233726305546,\n          275.0,\n          2.3034410449314233\n        ],\n        \"semantic_type\": \"\",\n        \"description\": \"\"\n      }\n    },\n    {\n      \"column\": \"poutcome\",\n      \"properties\": {\n        \"dtype\": \"category\",\n        \"num_unique_values\": 4,\n        \"samples\": [\n          4,\n          \"36959\",\n          \"45211\"\n        ],\n        \"semantic_type\": \"\",\n        \"description\": \"\"\n      }\n    },\n    {\n      \"column\": \"y\",\n      \"properties\": {\n        \"dtype\": \"category\",\n        \"num_unique_values\": 4,\n        \"samples\": [\n          2,\n          \"39922\",\n          \"45211\"\n        ],\n        \"semantic_type\": \"\",\n        \"description\": \"\"\n      }\n    }\n  ]\n}"
            }
          },
          "metadata": {},
          "execution_count": 7
        }
      ],
      "source": [
        "# Get a statistical summary of the dataset\n",
        "df.describe(include = 'all')"
      ]
    },
    {
      "cell_type": "markdown",
      "id": "So2BjrTCPz66",
      "metadata": {
        "id": "So2BjrTCPz66"
      },
      "source": [
        "# STEP 3: EDA\n"
      ]
    },
    {
      "cell_type": "markdown",
      "id": "8-0J_cZbMm_B",
      "metadata": {
        "id": "8-0J_cZbMm_B"
      },
      "source": [
        "\n",
        "### 3.1  Check the value counts of the target variable y in the dataset"
      ]
    },
    {
      "cell_type": "markdown",
      "id": "UiImxZ4SMheQ",
      "metadata": {
        "id": "UiImxZ4SMheQ"
      },
      "source": [
        "A common problem in binary classification tasks is data imbalance, where one class significantly outnumbers the other. In this question, you need to check whether the target variable y (whether the customer subscribed to a term deposit) is imbalanced in the dataset."
      ]
    },
    {
      "cell_type": "code",
      "execution_count": null,
      "id": "TXK9FW9WM17T",
      "metadata": {
        "colab": {
          "base_uri": "https://localhost:8080/",
          "height": 178
        },
        "id": "TXK9FW9WM17T",
        "outputId": "f7302e01-5f7c-4557-f5fa-6c1a46858b9c"
      },
      "outputs": [
        {
          "output_type": "execute_result",
          "data": {
            "text/plain": [
              "y\n",
              "no     0.883015\n",
              "yes    0.116985\n",
              "Name: proportion, dtype: float64"
            ],
            "text/html": [
              "<div>\n",
              "<style scoped>\n",
              "    .dataframe tbody tr th:only-of-type {\n",
              "        vertical-align: middle;\n",
              "    }\n",
              "\n",
              "    .dataframe tbody tr th {\n",
              "        vertical-align: top;\n",
              "    }\n",
              "\n",
              "    .dataframe thead th {\n",
              "        text-align: right;\n",
              "    }\n",
              "</style>\n",
              "<table border=\"1\" class=\"dataframe\">\n",
              "  <thead>\n",
              "    <tr style=\"text-align: right;\">\n",
              "      <th></th>\n",
              "      <th>proportion</th>\n",
              "    </tr>\n",
              "    <tr>\n",
              "      <th>y</th>\n",
              "      <th></th>\n",
              "    </tr>\n",
              "  </thead>\n",
              "  <tbody>\n",
              "    <tr>\n",
              "      <th>no</th>\n",
              "      <td>0.883015</td>\n",
              "    </tr>\n",
              "    <tr>\n",
              "      <th>yes</th>\n",
              "      <td>0.116985</td>\n",
              "    </tr>\n",
              "  </tbody>\n",
              "</table>\n",
              "</div><br><label><b>dtype:</b> float64</label>"
            ]
          },
          "metadata": {},
          "execution_count": 8
        }
      ],
      "source": [
        "# Check the value counts in target column\n",
        "df.y.value_counts(normalize=True)"
      ]
    },
    {
      "cell_type": "markdown",
      "id": "D_2si9jiNUzT",
      "metadata": {
        "id": "D_2si9jiNUzT"
      },
      "source": [
        "### 3.2 Plot the distribution of the value counts for the target variable y"
      ]
    },
    {
      "cell_type": "code",
      "execution_count": null,
      "id": "RFIzBb44NeCi",
      "metadata": {
        "colab": {
          "base_uri": "https://localhost:8080/",
          "height": 482
        },
        "id": "RFIzBb44NeCi",
        "outputId": "01e11d2b-4bec-46eb-c06b-3cbb67958389"
      },
      "outputs": [
        {
          "output_type": "display_data",
          "data": {
            "text/plain": [
              "<Figure size 640x480 with 1 Axes>"
            ],
            "image/png": "[encoded data removed]"
          },
          "metadata": {}
        }
      ],
      "source": [
        "# Get the value counts of 'y'\n",
        "df.y.value_counts(normalize=True).plot(kind='bar')\n",
        "\n",
        "# Define ax for the percentage patches\n",
        "ax = plt.gca()\n",
        "\n",
        "# Add percentages to bars\n",
        "for p in ax.patches:\n",
        "    ax.annotate(f'{p.get_height() * 100:.1f}%', (p.get_x() + p.get_width() / 3, p.get_height()))\n",
        "\n",
        "# Add titles to axis\n",
        "plt.title('Distribution of y')\n",
        "plt.xlabel('y')\n",
        "plt.ylabel('Percentage')\n",
        "\n",
        "# Plot the distribution\n",
        "plt.show()"
      ]
    },
    {
      "cell_type": "markdown",
      "id": "g2RJC3ktOhKb",
      "metadata": {
        "id": "g2RJC3ktOhKb"
      },
      "source": [
        "### 3.3 Plot a pie chart to visualize the distribution of the target variable y, including the percentages of each category"
      ]
    },
    {
      "cell_type": "code",
      "execution_count": null,
      "id": "uVKL0f4xOnfY",
      "metadata": {
        "colab": {
          "base_uri": "https://localhost:8080/",
          "height": 448
        },
        "id": "uVKL0f4xOnfY",
        "outputId": "e37ecab6-88d1-4052-ed12-0880fe888824"
      },
      "outputs": [
        {
          "output_type": "display_data",
          "data": {
            "text/plain": [
              "<Figure size 640x480 with 1 Axes>"
            ],
            "image/png": "[encoded data removed]"
          },
          "metadata": {}
        }
      ],
      "source": [
        "# Get the value counts of 'y'\n",
        "df.y.value_counts(normalize=True).plot(kind='pie', autopct='%1.1f%%')\n",
        "\n",
        "# Add titles to axis\n",
        "plt.title('Distribution of y')\n",
        "plt.xlabel('y')\n",
        "plt.ylabel('Percentage')\n",
        "\n",
        "# Create a pie chart\n",
        "plt.show()"
      ]
    },
    {
      "cell_type": "markdown",
      "id": "RP-dZasGPCdg",
      "metadata": {
        "id": "RP-dZasGPCdg"
      },
      "source": [
        "### 3.4 Why do you think classs imabalnce is a problem, and list down your ideas on addressing the class imbalance?"
      ]
    },
    {
      "cell_type": "code",
      "execution_count": null,
      "id": "VxwPs8GxUUa7",
      "metadata": {
        "colab": {
          "base_uri": "https://localhost:8080/",
          "height": 87
        },
        "id": "VxwPs8GxUUa7",
        "outputId": "5c77dfca-c555-4f75-946d-96e8f045c37b"
      },
      "outputs": [
        {
          "output_type": "execute_result",
          "data": {
            "text/plain": [
              "\"\\nThis Class Imbalance is a a BIG problem for the dataset asw it will assign a much higher magnitude of importance to the No attribute than the Yes attribute\\nfor the Y feature.  In practice, this means that we will have model that is highly tuned toward predicting clients that will not subscribe to a term deposits\\nvs clients that will.  This is the opposite of what we are tying to predict for.  I do wonder, however, since this is a BINARY target, if we predict who will\\nlikely NOT subscribe to a high level of accuracy, couldnt we just use customers who fall outside of that prediction in the campain?  That is, if I was to\\nproced with the imbalanced dataset.\\n\\nFurthermore, some solutions for this imbalance are SMOTE (Synthetic Minority Oversampling Technique) or usengthe class_mbalance = 'balanced' hyperparameter\\noption before model training.  SMOTE would potentiall make the data LESS INTERPRETABLE since it adds Synthetic samples to the actual data before model training.\\nclass_balance = 'balanced' would leave our data more interpretable since it doesnt add any synthetic data, rather it has the model assigh higher weights to\\nthe minority attribute than the majority attribute of the Target variable.\\n\\n\""
            ],
            "application/vnd.google.colaboratory.intrinsic+json": {
              "type": "string"
            }
          },
          "metadata": {},
          "execution_count": 11
        }
      ],
      "source": [
        "\"\"\"\n",
        "This Class Imbalance is a a BIG problem for the dataset asw it will assign a much higher magnitude of importance to the No attribute than the Yes attribute\n",
        "for the Y feature.  In practice, this means that we will have model that is highly tuned toward predicting clients that will not subscribe to a term deposits\n",
        "vs clients that will.  This is the opposite of what we are tying to predict for.  I do wonder, however, since this is a BINARY target, if we predict who will\n",
        "likely NOT subscribe to a high level of accuracy, couldnt we just use customers who fall outside of that prediction in the campain?  That is, if I was to\n",
        "proced with the imbalanced dataset.\n",
        "\n",
        "Furthermore, some solutions for this imbalance are SMOTE (Synthetic Minority Oversampling Technique) or usengthe class_mbalance = 'balanced' hyperparameter\n",
        "option before model training.  SMOTE would potentiall make the data LESS INTERPRETABLE since it adds Synthetic samples to the actual data before model training.\n",
        "class_balance = 'balanced' would leave our data more interpretable since it doesnt add any synthetic data, rather it has the model assigh higher weights to\n",
        "the minority attribute than the majority attribute of the Target variable.\n",
        "\n",
        "\"\"\""
      ]
    },
    {
      "cell_type": "markdown",
      "id": "ll4NylrLPTnj",
      "metadata": {
        "id": "ll4NylrLPTnj"
      },
      "source": [
        "### 3.5 For this problem what do you think is a good performance metric, precision, recall, f1-score or all of them? justify your answer."
      ]
    },
    {
      "cell_type": "code",
      "execution_count": null,
      "id": "Zlk44YF2Wq5J",
      "metadata": {
        "colab": {
          "base_uri": "https://localhost:8080/",
          "height": 52
        },
        "id": "Zlk44YF2Wq5J",
        "outputId": "6b143661-7f75-4fa8-f18f-8cda000fc38c"
      },
      "outputs": [
        {
          "output_type": "execute_result",
          "data": {
            "text/plain": [
              "'\\n\\nFor this problem, I place a higher importance on RECALL since we dont want to miss potentail customer opportunities.  This is more important that Preventing\\nFalse Positives by being Precision focused because, while there may be sunken cost involved in adding unlikely clientel to a campain, the potential revene in\\nperpetuity from aquring new clientele should reasonably outpace whatever campain cost are involved for  periodic campains.\\n\\n'"
            ],
            "application/vnd.google.colaboratory.intrinsic+json": {
              "type": "string"
            }
          },
          "metadata": {},
          "execution_count": 12
        }
      ],
      "source": [
        "\"\"\"\n",
        "\n",
        "For this problem, I place a higher importance on RECALL since we dont want to miss potentail customer opportunities.  This is more important that Preventing\n",
        "False Positives by being Precision focused because, while there may be sunken cost involved in adding unlikely clientel to a campain, the potential revene in\n",
        "perpetuity from aquring new clientele should reasonably outpace whatever campain cost are involved for  periodic campains.\n",
        "\n",
        "\"\"\""
      ]
    },
    {
      "cell_type": "markdown",
      "id": "2HX8OWN-PrE8",
      "metadata": {
        "id": "2HX8OWN-PrE8"
      },
      "source": [
        "# Step 4:  Data Preprocessing"
      ]
    },
    {
      "cell_type": "markdown",
      "id": "DgegmF9EP_yz",
      "metadata": {
        "id": "DgegmF9EP_yz"
      },
      "source": [
        "### 4.1 Check for any duplicate rows in the dataset."
      ]
    },
    {
      "cell_type": "code",
      "execution_count": null,
      "id": "Y5nezbLVO2r8",
      "metadata": {
        "colab": {
          "base_uri": "https://localhost:8080/"
        },
        "id": "Y5nezbLVO2r8",
        "outputId": "e9e2ce8c-b553-4900-a3f4-f3dee26cf71f"
      },
      "outputs": [
        {
          "output_type": "execute_result",
          "data": {
            "text/plain": [
              "np.int64(0)"
            ]
          },
          "metadata": {},
          "execution_count": 13
        }
      ],
      "source": [
        "# Check for duplicate row\n",
        "df.duplicated().sum()"
      ]
    },
    {
      "cell_type": "markdown",
      "id": "Rkptv-nNVc-M",
      "metadata": {
        "id": "Rkptv-nNVc-M"
      },
      "source": [
        "### 4.2 Check the Null values\n"
      ]
    },
    {
      "cell_type": "code",
      "execution_count": null,
      "id": "X57s62ohJ8OJ",
      "metadata": {
        "colab": {
          "base_uri": "https://localhost:8080/",
          "height": 617
        },
        "id": "X57s62ohJ8OJ",
        "outputId": "eae6bb50-5954-4ed1-8f2f-dce8126f57c8"
      },
      "outputs": [
        {
          "output_type": "execute_result",
          "data": {
            "text/plain": [
              "age          0\n",
              "job          0\n",
              "marital      0\n",
              "education    0\n",
              "default      0\n",
              "balance      0\n",
              "housing      0\n",
              "loan         0\n",
              "contact      0\n",
              "day          0\n",
              "month        0\n",
              "duration     0\n",
              "campaign     0\n",
              "pdays        0\n",
              "previous     0\n",
              "poutcome     0\n",
              "y            0\n",
              "dtype: int64"
            ],
            "text/html": [
              "<div>\n",
              "<style scoped>\n",
              "    .dataframe tbody tr th:only-of-type {\n",
              "        vertical-align: middle;\n",
              "    }\n",
              "\n",
              "    .dataframe tbody tr th {\n",
              "        vertical-align: top;\n",
              "    }\n",
              "\n",
              "    .dataframe thead th {\n",
              "        text-align: right;\n",
              "    }\n",
              "</style>\n",
              "<table border=\"1\" class=\"dataframe\">\n",
              "  <thead>\n",
              "    <tr style=\"text-align: right;\">\n",
              "      <th></th>\n",
              "      <th>0</th>\n",
              "    </tr>\n",
              "  </thead>\n",
              "  <tbody>\n",
              "    <tr>\n",
              "      <th>age</th>\n",
              "      <td>0</td>\n",
              "    </tr>\n",
              "    <tr>\n",
              "      <th>job</th>\n",
              "      <td>0</td>\n",
              "    </tr>\n",
              "    <tr>\n",
              "      <th>marital</th>\n",
              "      <td>0</td>\n",
              "    </tr>\n",
              "    <tr>\n",
              "      <th>education</th>\n",
              "      <td>0</td>\n",
              "    </tr>\n",
              "    <tr>\n",
              "      <th>default</th>\n",
              "      <td>0</td>\n",
              "    </tr>\n",
              "    <tr>\n",
              "      <th>balance</th>\n",
              "      <td>0</td>\n",
              "    </tr>\n",
              "    <tr>\n",
              "      <th>housing</th>\n",
              "      <td>0</td>\n",
              "    </tr>\n",
              "    <tr>\n",
              "      <th>loan</th>\n",
              "      <td>0</td>\n",
              "    </tr>\n",
              "    <tr>\n",
              "      <th>contact</th>\n",
              "      <td>0</td>\n",
              "    </tr>\n",
              "    <tr>\n",
              "      <th>day</th>\n",
              "      <td>0</td>\n",
              "    </tr>\n",
              "    <tr>\n",
              "      <th>month</th>\n",
              "      <td>0</td>\n",
              "    </tr>\n",
              "    <tr>\n",
              "      <th>duration</th>\n",
              "      <td>0</td>\n",
              "    </tr>\n",
              "    <tr>\n",
              "      <th>campaign</th>\n",
              "      <td>0</td>\n",
              "    </tr>\n",
              "    <tr>\n",
              "      <th>pdays</th>\n",
              "      <td>0</td>\n",
              "    </tr>\n",
              "    <tr>\n",
              "      <th>previous</th>\n",
              "      <td>0</td>\n",
              "    </tr>\n",
              "    <tr>\n",
              "      <th>poutcome</th>\n",
              "      <td>0</td>\n",
              "    </tr>\n",
              "    <tr>\n",
              "      <th>y</th>\n",
              "      <td>0</td>\n",
              "    </tr>\n",
              "  </tbody>\n",
              "</table>\n",
              "</div><br><label><b>dtype:</b> int64</label>"
            ]
          },
          "metadata": {},
          "execution_count": 14
        }
      ],
      "source": [
        "# Check for missing values in the dataset\n",
        "df.isnull().sum()"
      ]
    },
    {
      "cell_type": "markdown",
      "id": "4xmcOnxTRBse",
      "metadata": {
        "id": "4xmcOnxTRBse"
      },
      "source": [
        "### 4.3 Split the data into train and test"
      ]
    },
    {
      "cell_type": "code",
      "execution_count": null,
      "id": "5f911619",
      "metadata": {
        "id": "5f911619"
      },
      "outputs": [],
      "source": [
        "# Assuming X and y are your features and target variable\n",
        "# Split the data into 80% train and 20% test, stratifying by the target variable (y)\n",
        "X = df.drop('y', axis=1)\n",
        "y = df.y\n",
        "\n",
        "X_train, X_test, y_train, y_test = train_test_split(X, y, test_size=0.2, random_state=42, stratify=y)\n"
      ]
    },
    {
      "cell_type": "markdown",
      "id": "K1T7Ifj5TYv4",
      "metadata": {
        "id": "K1T7Ifj5TYv4"
      },
      "source": [
        "### 4.4 Seperate the numerical and catergorical columns for both train and test sets"
      ]
    },
    {
      "cell_type": "code",
      "execution_count": null,
      "id": "4253ac44",
      "metadata": {
        "id": "4253ac44"
      },
      "outputs": [],
      "source": [
        "# Divide the dataset into numerical and categorical columns\n",
        "numerical_columns = df.select_dtypes(include = 'number')\n",
        "categorical_columns = df.select_dtypes(include = 'object')\n",
        "\n",
        "# Separate numerical and categorical columns for train and test data\n",
        "train_numerical = X_train.select_dtypes(include = 'number')\n",
        "test_numerical =  X_test.select_dtypes(include = 'number')\n",
        "\n",
        "train_categorical = X_train.select_dtypes(include = 'object')\n",
        "test_categorical =  X_test.select_dtypes(include = 'object')\n"
      ]
    },
    {
      "cell_type": "markdown",
      "id": "165JmBMxTFMD",
      "metadata": {
        "id": "165JmBMxTFMD"
      },
      "source": [
        "### 4.5 Standardize the numerical columns using StandardScaler()"
      ]
    },
    {
      "cell_type": "code",
      "execution_count": null,
      "id": "e5fc3181",
      "metadata": {
        "id": "e5fc3181"
      },
      "outputs": [],
      "source": [
        "# Impoprt Scaler\n",
        "from sklearn.preprocessing import LabelEncoder, StandardScaler\n",
        "\n",
        "# Apply StandardScaler to numerical columns in train and test data\n",
        "scaler = StandardScaler()\n",
        "\n",
        "# Apply StandardScaler on train data (fit and transform)\n",
        "\"\"\"\n",
        "Note that the FIT functiom learns the Mean and STD of the data that it is processign\n",
        "\"\"\"\n",
        "scaled_train = pd.DataFrame(scaler.fit_transform(train_numerical), columns=train_numerical.columns)\n",
        "\n",
        "# Apply the scaler on test data (transform only)\n",
        "\"\"\"Note that you dont want to Fit the Test data because that would allow the model to learn the Mean and\n",
        "STD of the test data, which would be inofmation leakge to the model causing it to cheat on the test data\n",
        "and likely lose generalization performance on unseen data.\n",
        "\"\"\"\n",
        "scaled_test = pd.DataFrame(scaler.transform(test_numerical), columns=test_numerical.columns)"
      ]
    },
    {
      "cell_type": "markdown",
      "id": "cQj9s0o6Ue8r",
      "metadata": {
        "id": "cQj9s0o6Ue8r"
      },
      "source": [
        "### 4.6 Encode the categorical columns using OneHotEncoder"
      ]
    },
    {
      "cell_type": "code",
      "execution_count": null,
      "id": "d3a2441c",
      "metadata": {
        "id": "d3a2441c"
      },
      "outputs": [],
      "source": [
        "# Import OneHotEncoder\n",
        "from sklearn.preprocessing import OneHotEncoder\n",
        "\n",
        "# Initialize the OneHotEncoder INSTANCE in the OneHotEncoder class\n",
        "onehot_encoder = OneHotEncoder(handle_unknown='ignore') # Added handle_unknown to handle potential unseen categories in test data\n",
        "\n",
        "# Apply OneHotEncoder on train data (fit and transform)\n",
        "one_hot_train = pd.DataFrame(onehot_encoder.fit_transform(train_categorical).toarray(), columns=onehot_encoder.get_feature_names_out(train_categorical.columns))\n",
        "\n",
        "# # Apply the encoder on test data (transform only)\n",
        "one_hot_test = pd.DataFrame(onehot_encoder.fit_transform(test_categorical).toarray(), columns=onehot_encoder.get_feature_names_out(test_categorical.columns))"
      ]
    },
    {
      "cell_type": "markdown",
      "id": "qgE24GQYVCuY",
      "metadata": {
        "id": "qgE24GQYVCuY"
      },
      "source": [
        "### 4.7 Combine the both numerical and categorical columns"
      ]
    },
    {
      "cell_type": "code",
      "execution_count": null,
      "id": "f5e60353",
      "metadata": {
        "colab": {
          "base_uri": "https://localhost:8080/",
          "height": 179
        },
        "id": "f5e60353",
        "outputId": "78a4575d-52fd-4ce2-ab48-d94ec81f9219"
      },
      "outputs": [
        {
          "output_type": "execute_result",
          "data": {
            "text/plain": [
              "        age   balance       day  duration  campaign     pdays  previous  \\\n",
              "0 -0.460434 -0.164410  1.582124 -0.457311 -0.246104 -0.410910 -0.241509   \n",
              "1 -1.589641  0.899627 -1.298384  2.502493  0.398202  1.446096  2.664584   \n",
              "\n",
              "   job_admin.  job_blue-collar  job_entrepreneur  job_housemaid  \\\n",
              "0         0.0              0.0               0.0            0.0   \n",
              "1         0.0              0.0               0.0            0.0   \n",
              "\n",
              "   job_management  job_retired  job_self-employed  job_services  ...  \\\n",
              "0             0.0          0.0                0.0           0.0  ...   \n",
              "1             0.0          0.0                0.0           0.0  ...   \n",
              "\n",
              "   month_aug  month_dec  month_feb  month_jan  month_jul  month_jun  \\\n",
              "0        1.0        0.0        0.0        0.0        0.0        0.0   \n",
              "1        0.0        0.0        0.0        0.0        0.0        0.0   \n",
              "\n",
              "   month_mar  month_may  month_nov  month_oct  month_sep  poutcome_failure  \\\n",
              "0        0.0        0.0        0.0        0.0        0.0               0.0   \n",
              "1        0.0        0.0        0.0        0.0        0.0               1.0   \n",
              "\n",
              "   poutcome_other  poutcome_success  poutcome_unknown  \n",
              "0             0.0               0.0               1.0  \n",
              "1             0.0               0.0               0.0  \n",
              "\n",
              "[2 rows x 51 columns]"
            ],
            "text/html": [
              "\n",
              "  <div id=\"df-c84301ce-7414-47ee-b814-25cd20f9f11a\" class=\"colab-df-container\">\n",
              "    <div>\n",
              "<style scoped>\n",
              "    .dataframe tbody tr th:only-of-type {\n",
              "        vertical-align: middle;\n",
              "    }\n",
              "\n",
              "    .dataframe tbody tr th {\n",
              "        vertical-align: top;\n",
              "    }\n",
              "\n",
              "    .dataframe thead th {\n",
              "        text-align: right;\n",
              "    }\n",
              "</style>\n",
              "<table border=\"1\" class=\"dataframe\">\n",
              "  <thead>\n",
              "    <tr style=\"text-align: right;\">\n",
              "      <th></th>\n",
              "      <th>age</th>\n",
              "      <th>balance</th>\n",
              "      <th>day</th>\n",
              "      <th>duration</th>\n",
              "      <th>campaign</th>\n",
              "      <th>pdays</th>\n",
              "      <th>previous</th>\n",
              "      <th>job_admin.</th>\n",
              "      <th>job_blue-collar</th>\n",
              "      <th>job_entrepreneur</th>\n",
              "      <th>job_housemaid</th>\n",
              "      <th>job_management</th>\n",
              "      <th>job_retired</th>\n",
              "      <th>job_self-employed</th>\n",
              "      <th>job_services</th>\n",
              "      <th>...</th>\n",
              "      <th>month_aug</th>\n",
              "      <th>month_dec</th>\n",
              "      <th>month_feb</th>\n",
              "      <th>month_jan</th>\n",
              "      <th>month_jul</th>\n",
              "      <th>month_jun</th>\n",
              "      <th>month_mar</th>\n",
              "      <th>month_may</th>\n",
              "      <th>month_nov</th>\n",
              "      <th>month_oct</th>\n",
              "      <th>month_sep</th>\n",
              "      <th>poutcome_failure</th>\n",
              "      <th>poutcome_other</th>\n",
              "      <th>poutcome_success</th>\n",
              "      <th>poutcome_unknown</th>\n",
              "    </tr>\n",
              "  </thead>\n",
              "  <tbody>\n",
              "    <tr>\n",
              "      <th>0</th>\n",
              "      <td>-0.460434</td>\n",
              "      <td>-0.164410</td>\n",
              "      <td>1.582124</td>\n",
              "      <td>-0.457311</td>\n",
              "      <td>-0.246104</td>\n",
              "      <td>-0.410910</td>\n",
              "      <td>-0.241509</td>\n",
              "      <td>0.0</td>\n",
              "      <td>0.0</td>\n",
              "      <td>0.0</td>\n",
              "      <td>0.0</td>\n",
              "      <td>0.0</td>\n",
              "      <td>0.0</td>\n",
              "      <td>0.0</td>\n",
              "      <td>0.0</td>\n",
              "      <td>...</td>\n",
              "      <td>1.0</td>\n",
              "      <td>0.0</td>\n",
              "      <td>0.0</td>\n",
              "      <td>0.0</td>\n",
              "      <td>0.0</td>\n",
              "      <td>0.0</td>\n",
              "      <td>0.0</td>\n",
              "      <td>0.0</td>\n",
              "      <td>0.0</td>\n",
              "      <td>0.0</td>\n",
              "      <td>0.0</td>\n",
              "      <td>0.0</td>\n",
              "      <td>0.0</td>\n",
              "      <td>0.0</td>\n",
              "      <td>1.0</td>\n",
              "    </tr>\n",
              "    <tr>\n",
              "      <th>1</th>\n",
              "      <td>-1.589641</td>\n",
              "      <td>0.899627</td>\n",
              "      <td>-1.298384</td>\n",
              "      <td>2.502493</td>\n",
              "      <td>0.398202</td>\n",
              "      <td>1.446096</td>\n",
              "      <td>2.664584</td>\n",
              "      <td>0.0</td>\n",
              "      <td>0.0</td>\n",
              "      <td>0.0</td>\n",
              "      <td>0.0</td>\n",
              "      <td>0.0</td>\n",
              "      <td>0.0</td>\n",
              "      <td>0.0</td>\n",
              "      <td>0.0</td>\n",
              "      <td>...</td>\n",
              "      <td>0.0</td>\n",
              "      <td>0.0</td>\n",
              "      <td>0.0</td>\n",
              "      <td>0.0</td>\n",
              "      <td>0.0</td>\n",
              "      <td>0.0</td>\n",
              "      <td>0.0</td>\n",
              "      <td>0.0</td>\n",
              "      <td>0.0</td>\n",
              "      <td>0.0</td>\n",
              "      <td>0.0</td>\n",
              "      <td>1.0</td>\n",
              "      <td>0.0</td>\n",
              "      <td>0.0</td>\n",
              "      <td>0.0</td>\n",
              "    </tr>\n",
              "  </tbody>\n",
              "</table>\n",
              "<p>2 rows × 51 columns</p>\n",
              "</div>\n",
              "    <div class=\"colab-df-buttons\">\n",
              "\n",
              "  <div class=\"colab-df-container\">\n",
              "    <button class=\"colab-df-convert\" onclick=\"convertToInteractive('df-c84301ce-7414-47ee-b814-25cd20f9f11a')\"\n",
              "            title=\"Convert this dataframe to an interactive table.\"\n",
              "            style=\"display:none;\">\n",
              "\n",
              "  <svg xmlns=\"http://www.w3.org/2000/svg\" height=\"24px\" viewBox=\"0 -960 960 960\">\n",
              "    <path d=\"M120-120v-720h720v720H120Zm60-500h600v-160H180v160Zm220 220h160v-160H400v160Zm0 220h160v-160H400v160ZM180-400h160v-160H180v160Zm440 0h160v-160H620v160ZM180-180h160v-160H180v160Zm440 0h160v-160H620v160Z\"/>\n",
              "  </svg>\n",
              "    </button>\n",
              "\n",
              "  <style>\n",
              "    .colab-df-container {\n",
              "      display:flex;\n",
              "      gap: 12px;\n",
              "    }\n",
              "\n",
              "    .colab-df-convert {\n",
              "      background-color: #E8F0FE;\n",
              "      border: none;\n",
              "      border-radius: 50%;\n",
              "      cursor: pointer;\n",
              "      display: none;\n",
              "      fill: #1967D2;\n",
              "      height: 32px;\n",
              "      padding: 0 0 0 0;\n",
              "      width: 32px;\n",
              "    }\n",
              "\n",
              "    .colab-df-convert:hover {\n",
              "      background-color: #E2EBFA;\n",
              "      box-shadow: 0px 1px 2px rgba(60, 64, 67, 0.3), 0px 1px 3px 1px rgba(60, 64, 67, 0.15);\n",
              "      fill: #174EA6;\n",
              "    }\n",
              "\n",
              "    .colab-df-buttons div {\n",
              "      margin-bottom: 4px;\n",
              "    }\n",
              "\n",
              "    [theme=dark] .colab-df-convert {\n",
              "      background-color: #3B4455;\n",
              "      fill: #D2E3FC;\n",
              "    }\n",
              "\n",
              "    [theme=dark] .colab-df-convert:hover {\n",
              "      background-color: #434B5C;\n",
              "      box-shadow: 0px 1px 3px 1px rgba(0, 0, 0, 0.15);\n",
              "      filter: drop-shadow(0px 1px 2px rgba(0, 0, 0, 0.3));\n",
              "      fill: #FFFFFF;\n",
              "    }\n",
              "  </style>\n",
              "\n",
              "    <script>\n",
              "      const buttonEl =\n",
              "        document.querySelector('#df-c84301ce-7414-47ee-b814-25cd20f9f11a button.colab-df-convert');\n",
              "      buttonEl.style.display =\n",
              "        google.colab.kernel.accessAllowed ? 'block' : 'none';\n",
              "\n",
              "      async function convertToInteractive(key) {\n",
              "        const element = document.querySelector('#df-c84301ce-7414-47ee-b814-25cd20f9f11a');\n",
              "        const dataTable =\n",
              "          await google.colab.kernel.invokeFunction('convertToInteractive',\n",
              "                                                    [key], {});\n",
              "        if (!dataTable) return;\n",
              "\n",
              "        const docLinkHtml = 'Like what you see? Visit the ' +\n",
              "          '<a target=\"_blank\" href=https://colab.research.google.com/notebooks/data_table.ipynb>data table notebook</a>'\n",
              "          + ' to learn more about interactive tables.';\n",
              "        element.innerHTML = '';\n",
              "        dataTable['output_type'] = 'display_data';\n",
              "        await google.colab.output.renderOutput(dataTable, element);\n",
              "        const docLink = document.createElement('div');\n",
              "        docLink.innerHTML = docLinkHtml;\n",
              "        element.appendChild(docLink);\n",
              "      }\n",
              "    </script>\n",
              "  </div>\n",
              "\n",
              "\n",
              "    <div id=\"df-cdea0f01-7bab-4f49-82d5-a124f717613d\">\n",
              "      <button class=\"colab-df-quickchart\" onclick=\"quickchart('df-cdea0f01-7bab-4f49-82d5-a124f717613d')\"\n",
              "                title=\"Suggest charts\"\n",
              "                style=\"display:none;\">\n",
              "\n",
              "<svg xmlns=\"http://www.w3.org/2000/svg\" height=\"24px\"viewBox=\"0 0 24 24\"\n",
              "     width=\"24px\">\n",
              "    <g>\n",
              "        <path d=\"M19 3H5c-1.1 0-2 .9-2 2v14c0 1.1.9 2 2 2h14c1.1 0 2-.9 2-2V5c0-1.1-.9-2-2-2zM9 17H7v-7h2v7zm4 0h-2V7h2v10zm4 0h-2v-4h2v4z\"/>\n",
              "    </g>\n",
              "</svg>\n",
              "      </button>\n",
              "\n",
              "<style>\n",
              "  .colab-df-quickchart {\n",
              "      --bg-color: #E8F0FE;\n",
              "      --fill-color: #1967D2;\n",
              "      --hover-bg-color: #E2EBFA;\n",
              "      --hover-fill-color: #174EA6;\n",
              "      --disabled-fill-color: #AAA;\n",
              "      --disabled-bg-color: #DDD;\n",
              "  }\n",
              "\n",
              "  [theme=dark] .colab-df-quickchart {\n",
              "      --bg-color: #3B4455;\n",
              "      --fill-color: #D2E3FC;\n",
              "      --hover-bg-color: #434B5C;\n",
              "      --hover-fill-color: #FFFFFF;\n",
              "      --disabled-bg-color: #3B4455;\n",
              "      --disabled-fill-color: #666;\n",
              "  }\n",
              "\n",
              "  .colab-df-quickchart {\n",
              "    background-color: var(--bg-color);\n",
              "    border: none;\n",
              "    border-radius: 50%;\n",
              "    cursor: pointer;\n",
              "    display: none;\n",
              "    fill: var(--fill-color);\n",
              "    height: 32px;\n",
              "    padding: 0;\n",
              "    width: 32px;\n",
              "  }\n",
              "\n",
              "  .colab-df-quickchart:hover {\n",
              "    background-color: var(--hover-bg-color);\n",
              "    box-shadow: 0 1px 2px rgba(60, 64, 67, 0.3), 0 1px 3px 1px rgba(60, 64, 67, 0.15);\n",
              "    fill: var(--button-hover-fill-color);\n",
              "  }\n",
              "\n",
              "  .colab-df-quickchart-complete:disabled,\n",
              "  .colab-df-quickchart-complete:disabled:hover {\n",
              "    background-color: var(--disabled-bg-color);\n",
              "    fill: var(--disabled-fill-color);\n",
              "    box-shadow: none;\n",
              "  }\n",
              "\n",
              "  .colab-df-spinner {\n",
              "    border: 2px solid var(--fill-color);\n",
              "    border-color: transparent;\n",
              "    border-bottom-color: var(--fill-color);\n",
              "    animation:\n",
              "      spin 1s steps(1) infinite;\n",
              "  }\n",
              "\n",
              "  @keyframes spin {\n",
              "    0% {\n",
              "      border-color: transparent;\n",
              "      border-bottom-color: var(--fill-color);\n",
              "      border-left-color: var(--fill-color);\n",
              "    }\n",
              "    20% {\n",
              "      border-color: transparent;\n",
              "      border-left-color: var(--fill-color);\n",
              "      border-top-color: var(--fill-color);\n",
              "    }\n",
              "    30% {\n",
              "      border-color: transparent;\n",
              "      border-left-color: var(--fill-color);\n",
              "      border-top-color: var(--fill-color);\n",
              "      border-right-color: var(--fill-color);\n",
              "    }\n",
              "    40% {\n",
              "      border-color: transparent;\n",
              "      border-right-color: var(--fill-color);\n",
              "      border-top-color: var(--fill-color);\n",
              "    }\n",
              "    60% {\n",
              "      border-color: transparent;\n",
              "      border-right-color: var(--fill-color);\n",
              "    }\n",
              "    80% {\n",
              "      border-color: transparent;\n",
              "      border-right-color: var(--fill-color);\n",
              "      border-bottom-color: var(--fill-color);\n",
              "    }\n",
              "    90% {\n",
              "      border-color: transparent;\n",
              "      border-bottom-color: var(--fill-color);\n",
              "    }\n",
              "  }\n",
              "</style>\n",
              "\n",
              "      <script>\n",
              "        async function quickchart(key) {\n",
              "          const quickchartButtonEl =\n",
              "            document.querySelector('#' + key + ' button');\n",
              "          quickchartButtonEl.disabled = true;  // To prevent multiple clicks.\n",
              "          quickchartButtonEl.classList.add('colab-df-spinner');\n",
              "          try {\n",
              "            const charts = await google.colab.kernel.invokeFunction(\n",
              "                'suggestCharts', [key], {});\n",
              "          } catch (error) {\n",
              "            console.error('Error during call to suggestCharts:', error);\n",
              "          }\n",
              "          quickchartButtonEl.classList.remove('colab-df-spinner');\n",
              "          quickchartButtonEl.classList.add('colab-df-quickchart-complete');\n",
              "        }\n",
              "        (() => {\n",
              "          let quickchartButtonEl =\n",
              "            document.querySelector('#df-cdea0f01-7bab-4f49-82d5-a124f717613d button');\n",
              "          quickchartButtonEl.style.display =\n",
              "            google.colab.kernel.accessAllowed ? 'block' : 'none';\n",
              "        })();\n",
              "      </script>\n",
              "    </div>\n",
              "\n",
              "    </div>\n",
              "  </div>\n"
            ],
            "application/vnd.google.colaboratory.intrinsic+json": {
              "type": "dataframe",
              "variable_name": "X_train"
            }
          },
          "metadata": {},
          "execution_count": 19
        }
      ],
      "source": [
        "# Combine numerical and categorical columns in train and test data\n",
        "X_train_combined = pd.concat([scaled_train, one_hot_train], axis=1)\n",
        "X_test_combined = pd.concat([scaled_test, one_hot_test], axis=1)\n",
        "\n",
        "# Convert the final train and test sets to DataFrames\n",
        "X_train = pd.DataFrame(X_train_combined)\n",
        "X_test = pd.DataFrame(X_test_combined)\n",
        "\n",
        "# Display the first few rows of the final processed training set\n",
        "X_train.head(2)"
      ]
    },
    {
      "cell_type": "markdown",
      "id": "2R4NBmmpVf_0",
      "metadata": {
        "id": "2R4NBmmpVf_0"
      },
      "source": [
        "### 4.8 Encode the target variable (`yes: 1` , `no: 0`)\n"
      ]
    },
    {
      "cell_type": "code",
      "execution_count": null,
      "id": "1fd84d44",
      "metadata": {
        "id": "1fd84d44"
      },
      "outputs": [],
      "source": [
        "# Encode the target variable in the training set\n",
        "y_train = y_train.map({'yes': 1, 'no': 0})\n",
        "\n",
        "# Encode the target variable in the test set\n",
        "y_test = y_test.map({'yes':1, 'no':0})"
      ]
    },
    {
      "cell_type": "markdown",
      "id": "x8VpRrkIWFs6",
      "metadata": {
        "id": "x8VpRrkIWFs6"
      },
      "source": [
        "### 4.9 Display the shape of the train sets and test sets"
      ]
    },
    {
      "cell_type": "code",
      "execution_count": null,
      "id": "ac0d558e",
      "metadata": {
        "colab": {
          "base_uri": "https://localhost:8080/"
        },
        "id": "ac0d558e",
        "outputId": "4284f7be-1795-4e8b-ebe9-78066f969fa0"
      },
      "outputs": [
        {
          "output_type": "execute_result",
          "data": {
            "text/plain": [
              "((36168, 51), (9043, 51), (36168,), (9043,))"
            ]
          },
          "metadata": {},
          "execution_count": 21
        }
      ],
      "source": [
        "# Display the shape of sets\n",
        "X_train.shape, X_test.shape, y_train.shape, y_test.shape"
      ]
    },
    {
      "cell_type": "markdown",
      "id": "fhDDrWGdWT8h",
      "metadata": {
        "id": "fhDDrWGdWT8h"
      },
      "source": [
        "# Step 5: Model Building"
      ]
    },
    {
      "cell_type": "markdown",
      "id": "SIVMhUUVWdBD",
      "metadata": {
        "id": "SIVMhUUVWdBD"
      },
      "source": [
        "### 5.1 Build a Logistic Regression Model"
      ]
    },
    {
      "cell_type": "markdown",
      "id": "8gisx57pWg6W",
      "metadata": {
        "id": "8gisx57pWg6W"
      },
      "source": [
        "Build a Logistic regression model and check the model performance using precision, recall, F1 score, and the AUC from ROC curve with default threshold. Write your observations based on the result."
      ]
    },
    {
      "cell_type": "code",
      "execution_count": null,
      "id": "355329ba",
      "metadata": {
        "colab": {
          "base_uri": "https://localhost:8080/"
        },
        "id": "355329ba",
        "outputId": "60f99584-dece-40dd-c5b4-4d3f9a0169f4"
      },
      "outputs": [
        {
          "output_type": "stream",
          "name": "stdout",
          "text": [
            "Precision: 0.64\n",
            "Recall: 0.35\n",
            "F1-Score: 0.45\n",
            "AUC: 0.91\n"
          ]
        }
      ],
      "source": [
        "# Import LogisticRegression, required metrics\n",
        "import sklearn.metrics as metrics\n",
        "from sklearn.linear_model import LogisticRegression\n",
        "from sklearn.metrics import precision_score, recall_score, f1_score, roc_auc_score\n",
        "\n",
        "# Step 1: Train a Logistic Regression model\n",
        "log_reg = LogisticRegression(random_state=42)\n",
        "log_reg.fit(X_train, y_train)\n",
        "\n",
        "\n",
        "# Step 2: Predict probabilities for the test set (to calculate AUC later)\n",
        "y_pred_prob = log_reg.predict_proba(X_test)[:, 1]  # Probability of the positive class (1)\n",
        "\n",
        "# Step 3: Make predictions using the default threshold (0.5)\n",
        "y_pred = (y_pred_prob >= 0.5).astype(int)\n",
        "\n",
        "# Step 4: Calculate Precision, Recall, and F1 Score\n",
        "precision = precision_score(y_test, y_pred)\n",
        "recall = recall_score(y_test, y_pred)\n",
        "f1 = f1_score(y_test, y_pred)\n",
        "\n",
        "\n",
        "# Step 5: Calculate AUC (Area Under the ROC Curve)\n",
        "auc = roc_auc_score(y_test, y_pred_prob)\n",
        "\n",
        "# Step 6: Print the evaluation metrics\n",
        "print(f\"Precision: {precision:.2f}\")\n",
        "print(f\"Recall: {recall:.2f}\")\n",
        "print(f\"F1-Score: {f1:.2f}\")\n",
        "print(f\"AUC: {auc:.2f}\")\n"
      ]
    },
    {
      "cell_type": "code",
      "source": [
        "\"\"\"\n",
        "\n",
        "The vanilla logistic regression model did OK on the precision, but it failed drastically on the recall.\n",
        "Given that I am trying to not miss any potential Term Deposit customers, I am more concerned with the recall than the precision.\n",
        "With that said, this model is not performing well for the defined problem and goal.  Need to address class imbalance and model\n",
        "optimization to improve performance.\n",
        "\n",
        "\"\"\""
      ],
      "metadata": {
        "id": "ency7qwEZA87"
      },
      "id": "ency7qwEZA87",
      "execution_count": null,
      "outputs": []
    },
    {
      "cell_type": "markdown",
      "id": "15b2238a",
      "metadata": {
        "id": "15b2238a"
      },
      "source": [
        "### 5.2 Build a Logistic Regression Model with Optimal Threshold\n"
      ]
    },
    {
      "cell_type": "markdown",
      "id": "vPXSwWAOW_4j",
      "metadata": {
        "id": "vPXSwWAOW_4j"
      },
      "source": [
        "Build a logisitc model with optimal threshold and check perfomrance based on above-mentioned metrics. Mention your observations on the recall and F1-Score along with other metrics(use `class_weight` = 'balanced')"
      ]
    },
    {
      "cell_type": "code",
      "execution_count": null,
      "id": "7b45eda7",
      "metadata": {
        "colab": {
          "base_uri": "https://localhost:8080/",
          "height": 541
        },
        "id": "7b45eda7",
        "outputId": "f3de5140-69ba-4457-efbe-8e55ed229dc8"
      },
      "outputs": [
        {
          "output_type": "stream",
          "name": "stdout",
          "text": [
            "Precision: 0.37\n",
            "Recall: 0.88\n",
            "F1-Score: 0.52\n",
            "AUC: 0.91\n"
          ]
        },
        {
          "output_type": "display_data",
          "data": {
            "text/plain": [
              "<Figure size 640x480 with 1 Axes>"
            ],
            "image/png": "[encoded data removed]"
          },
          "metadata": {}
        }
      ],
      "source": [
        "# Step 1: Train a Logistic Regression model\n",
        "balanced_log_reg = LogisticRegression(random_state=42, class_weight='balanced')\n",
        "balanced_log_reg.fit(X_train, y_train)\n",
        "\n",
        "# Step 2: Predict probabilities for the test set (to calculate AUC and ROC curve)\n",
        "y_pred_prob = balanced_log_reg.predict_proba(X_test)[:, 1]  # Probability of the positive class (1)\n",
        "\n",
        "# Step 3: Compute ROC curve and find the optimal threshold\n",
        "fpr, tpr, thresholds = metrics.roc_curve(y_test, y_pred_prob)\n",
        "optimal_idx = np.argmax(tpr - fpr)\n",
        "\n",
        "\n",
        "# Optimal threshold: the one that maximizes the difference between true positive rate and false positive rate\n",
        "optimal_threshold = thresholds[optimal_idx]\n",
        "\n",
        "# Step 4: Make predictions using the optimal threshold\n",
        "y_pred = (y_pred_prob >= optimal_threshold).astype(int)\n",
        "\n",
        "# Step 5: Calculate Precision, Recall, and F1 Score with the optimal threshold\n",
        "precision = precision_score(y_test, y_pred)\n",
        "recall = recall_score(y_test, y_pred)\n",
        "f1 = f1_score(y_test, y_pred)\n",
        "\n",
        "\n",
        "# Step 6: Calculate AUC (Area Under the ROC Curve)\n",
        "auc = roc_auc_score(y_test, y_pred_prob)\n",
        "\n",
        "# Step 7: Print the evaluation metrics\n",
        "print(f\"Precision: {precision:.2f}\")\n",
        "print(f\"Recall: {recall:.2f}\")\n",
        "print(f\"F1-Score: {f1:.2f}\")\n",
        "print(f\"AUC: {auc:.2f}\")\n",
        "\n",
        "#Step 8: Plot\n",
        "plt.plot(fpr, tpr, label=f\"Logistic Regression (AUC = {auc:.2f})\")\n",
        "plt.plot([0, 1], [0, 1], linestyle='--', color='gray')  # Diagonal line for random guessing\n",
        "plt.xlabel('False Positive Rate')\n",
        "plt.ylabel('True Positive Rate')\n",
        "plt.title('ROC Curve')\n",
        "plt.legend(loc=\"best\")\n",
        "plt.show()"
      ]
    },
    {
      "cell_type": "code",
      "source": [
        "\"\"\"\n",
        "\n",
        "After using the predicted probabilities to tune for the optimal model threshold ad addressing the class imbalance, I was able to\n",
        "drastically increase performance on the Recall, even though the precision had a big decrease.  Again, since the Recall is what is\n",
        "more important here, I am willing to take a decrease on the Precision of the model if that means we capture more potential\n",
        "customers for the campaign.\n",
        "\n",
        "\"\"\""
      ],
      "metadata": {
        "id": "6xzkZhR3ZrqJ"
      },
      "id": "6xzkZhR3ZrqJ",
      "execution_count": null,
      "outputs": []
    },
    {
      "cell_type": "markdown",
      "id": "fee8d108",
      "metadata": {
        "id": "fee8d108"
      },
      "source": [
        "### 5.3 Build a KNN Model with k=5\n",
        "\n",
        "Build a KNN model with k=5 and check the model performance using precision, recall, F1 score, write your observations on the metrics"
      ]
    },
    {
      "cell_type": "code",
      "execution_count": null,
      "id": "39d8e7b3",
      "metadata": {
        "colab": {
          "base_uri": "https://localhost:8080/"
        },
        "id": "39d8e7b3",
        "outputId": "18e6ef61-e66c-4d17-aa01-0dbe1e58a360"
      },
      "outputs": [
        {
          "output_type": "stream",
          "name": "stdout",
          "text": [
            "Precision: 0.60\n",
            "Recall: 0.34\n",
            "F1-Score: 0.43\n"
          ]
        }
      ],
      "source": [
        "# Import KNeighborsClassifier\n",
        "import sklearn.metrics as metrics\n",
        "from sklearn.neighbors import KNeighborsClassifier\n",
        "\n",
        "# Make the train and test sets are in array format\n",
        "knn_train = X_train.to_numpy()\n",
        "knn_test = X_test.to_numpy()\n",
        "\n",
        "# Step 1: Initialize and train the KNN model\n",
        "knn_model = KNeighborsClassifier(n_neighbors=5)\n",
        "knn_model.fit(knn_train, y_train)\n",
        "\n",
        "# Step 2: Predict probabilities for the test set (to calculate AUC later)\n",
        "y_pred_prob = knn_model.predict_proba(knn_test)[:, 1]  # Probability of the positive class (1)\n",
        "\n",
        "# Step 3: Make predictions using the default threshold (0.5)\n",
        "y_pred = (y_pred_prob >= 0.5).astype(int)\n",
        "\n",
        "# Step 4: Calculate Precision, Recall, and F1 Score\n",
        "precision = precision_score(y_test, y_pred)\n",
        "recall = recall_score(y_test, y_pred)\n",
        "f1 = f1_score(y_test, y_pred)\n",
        "\n",
        "# Step 5: Print the evaluation metrics\n",
        "print(f\"Precision: {precision:.2f}\")\n",
        "print(f\"Recall: {recall:.2f}\")\n",
        "print(f\"F1-Score: {f1:.2f}\")\n"
      ]
    },
    {
      "cell_type": "code",
      "source": [
        "\"\"\"\n",
        "\n",
        "This model did not perform well on recall or precision.  I will try applying SMOTE\n",
        "to the data to address class imbalance.\n",
        "\n",
        "\"\"\""
      ],
      "metadata": {
        "id": "oUZin0z9aIpA"
      },
      "id": "oUZin0z9aIpA",
      "execution_count": null,
      "outputs": []
    },
    {
      "cell_type": "markdown",
      "id": "5a00ca05",
      "metadata": {
        "id": "5a00ca05"
      },
      "source": [
        "### 5.4 Build a KNN Model with k=5 with a balanced set\n",
        "\n",
        "#####  SMOTE the data to address class imbalance and build a KNN model with k=5 and check the model performance using precision, recall, F1 score; Compare the reuslts with the previous results and write your observations."
      ]
    },
    {
      "cell_type": "code",
      "execution_count": null,
      "id": "RsIlLI0rwZmy",
      "metadata": {
        "colab": {
          "base_uri": "https://localhost:8080/"
        },
        "id": "RsIlLI0rwZmy",
        "outputId": "acca9d7c-c85b-4940-e699-91294bcf7126"
      },
      "outputs": [
        {
          "output_type": "stream",
          "name": "stdout",
          "text": [
            "Precision: 0.41\n",
            "Recall: 0.73\n",
            "F1-Score: 0.52\n",
            "CPU times: user 6.28 s, sys: 192 ms, total: 6.47 s\n",
            "Wall time: 6.9 s\n"
          ]
        }
      ],
      "source": [
        "%%time\n",
        "#Import modules\n",
        "from imblearn.over_sampling import SMOTE\n",
        "\n",
        "# Step 1: Apply SMOTE to the training data\n",
        "smote = SMOTE(random_state=42)\n",
        "\n",
        "# Resample X_train and y_train\n",
        "X_train_resampled, y_train_resampled = smote.fit_resample(X_train, y_train)\n",
        "# Convert the resampled data to NumPy arrays (if they are not already)\n",
        "X_train_smote, y_train_smote = X_train_resampled.to_numpy(), y_train_resampled.to_numpy()\n",
        "\n",
        "# Step 2: Initialize and train the KNN model\n",
        "balanced_knn_model = KNeighborsClassifier(n_neighbors=5)\n",
        "balanced_knn_model.fit(knn_train, y_train)\n",
        "balanced_knn_model = KNeighborsClassifier(n_neighbors = 5)\n",
        "balanced_knn_model.fit(X_train_smote, y_train_smote)\n",
        "\n",
        "# Step 3: Make predictions on the test set\n",
        "y_pred = balanced_knn_model.predict(knn_test)\n",
        "\n",
        "# Step 4: Calculate Precision, Recall, and F1 Score\n",
        "precision = precision_score(y_test, y_pred)\n",
        "recall = recall_score(y_test, y_pred)\n",
        "f1 = f1_score(y_test, y_pred)\n",
        "\n",
        "# Step 5: Print the evaluation metrics\n",
        "print(f\"Precision: {precision:.2f}\")\n",
        "print(f\"Recall: {recall:.2f}\")\n",
        "print(f\"F1-Score: {f1:.2f}\")"
      ]
    },
    {
      "cell_type": "code",
      "execution_count": null,
      "id": "atZl-W_tYjuM",
      "metadata": {
        "id": "atZl-W_tYjuM"
      },
      "outputs": [],
      "source": [
        "\"\"\"\n",
        "\n",
        "After applying Synthetic minority Oversampling to the data, I was able to increase the overall performance.\n",
        "While the precision did increase slightly, the recall had biggest increase, which is the metric we want\n",
        "to see performance on the most for this problem.  It has not taken the top spot; however, it is a descent\n",
        "recall with room for improvement.\n",
        "\n",
        "\"\"\""
      ]
    },
    {
      "cell_type": "markdown",
      "id": "f5522c68",
      "metadata": {
        "id": "f5522c68"
      },
      "source": [
        "### 5.5 Build a Random forest model with n_estimators=10 and balanced class weight\n",
        "\n",
        "#####  Build a Random forest with the given specifications and check the model performance using precision, recall, F1 score; Obtain the training set and test set metrics and write your observations."
      ]
    },
    {
      "cell_type": "code",
      "execution_count": null,
      "id": "78162e75",
      "metadata": {
        "colab": {
          "base_uri": "https://localhost:8080/"
        },
        "id": "78162e75",
        "outputId": "973adeb0-fb72-4ebc-c6ef-33499b46b06e"
      },
      "outputs": [
        {
          "output_type": "stream",
          "name": "stdout",
          "text": [
            "Precision: 1.00\n",
            "Recall: 0.94\n",
            "F1-Score: 0.97 \n",
            "\n",
            "Precision: 0.63\n",
            "Recall: 0.30\n",
            "F1-Score: 0.41\n"
          ]
        }
      ],
      "source": [
        "# Import required modules\n",
        "import sklearn.metrics as metrics\n",
        "from sklearn.ensemble import RandomForestClassifier\n",
        "\n",
        "# Step 1: Initialize and train the Random Forest model with n_estimators=10\n",
        "random_forest_model = RandomForestClassifier(n_estimators=10, random_state=42, class_weight='balanced')\n",
        "random_forest_model.fit(X_train, y_train)\n",
        "\n",
        "\n",
        "# Step 2: Make predictions on the training set\n",
        "y_train_pred = random_forest_model.predict(X_train)\n",
        "\n",
        "\n",
        "# Step 3: Make predictions on the test set\n",
        "y_pred = random_forest_model.predict(X_test)\n",
        "\n",
        "\n",
        "# Step 4: Calculate Precision, Recall, and F1 Score for the training set\n",
        "rf_train_precision = precision_score(y_train, y_train_pred)\n",
        "rf_train_recall = recall_score(y_train, y_train_pred)\n",
        "rf_train_f1 = f1_score(y_train, y_train_pred)\n",
        "\n",
        "\n",
        "# Step 5: Calculate Precision, Recall, and F1 Score for the test set\n",
        "rf_test_precision = precision_score(y_test, y_pred)\n",
        "rf_test_recall = recall_score(y_test, y_pred)\n",
        "rf_test_f1 = f1_score(y_test, y_pred)\n",
        "\n",
        "\n",
        "# Step 6: Print the evaluation metrics for the training set\n",
        "print(f\"Precision: {rf_train_precision:.2f}\")\n",
        "print(f\"Recall: {rf_train_recall:.2f}\")\n",
        "print(f\"F1-Score: {rf_train_f1:.2f} \\n\")\n",
        "\n",
        "\n",
        "# Step 7: Print the evaluation metrics for the test set\n",
        "print(f\"Precision: {rf_test_precision:.2f}\")\n",
        "print(f\"Recall: {rf_test_recall:.2f}\")\n",
        "print(f\"F1-Score: {rf_test_f1:.2f}\")"
      ]
    },
    {
      "cell_type": "code",
      "execution_count": null,
      "id": "FIv79FaMquWr",
      "metadata": {
        "colab": {
          "base_uri": "https://localhost:8080/",
          "height": 52
        },
        "id": "FIv79FaMquWr",
        "outputId": "9289b76a-c12a-4031-ed36-d6530e4d7d32"
      },
      "outputs": [
        {
          "output_type": "execute_result",
          "data": {
            "text/plain": [
              "\"\\n\\nLooking at the difference between the train and test scores, it is apprant that the model is overfitting to the training data.  I will need to apply some\\nregularuzatin in order to prevent overfitting.  The overfitting must be due to the algo itself as opposed to the data because the model is applying balanced\\nweighting to the data with the class_weight = 'balanced' hyperparameter.  Furthermore, the precision is really high compared the the Recall, which is opposite\\nof what we want to see for this problem.\\n\\n\""
            ],
            "application/vnd.google.colaboratory.intrinsic+json": {
              "type": "string"
            }
          },
          "metadata": {},
          "execution_count": 27
        }
      ],
      "source": [
        "\"\"\"\n",
        "\n",
        "Looking at the difference between the train and test scores, it is apparent that the model is overfitting to the training data.  I will need to apply some\n",
        "regularization in order to prevent overfitting.  The overfitting must be due to the algo itself as opposed to the data because the model is applying balanced\n",
        "weighting to the data with the class_weight = 'balanced' hyperparameter.  Furthermore, the precision is really high compared the Recall, which is opposite\n",
        "of what we want to see for this problem.\n",
        "\n",
        "\"\"\""
      ]
    },
    {
      "cell_type": "markdown",
      "id": "35977c89",
      "metadata": {
        "id": "35977c89"
      },
      "source": [
        "### 5.6 Build a Random forest model with the following parameter grid and balanced class weight\n",
        "##### param_grid:\n",
        "\n",
        "```\n",
        "'n_estimators': [100,200],          \n",
        "'max_depth': [10,20,30],        \n",
        "'min_samples_split': [2,5,10]\n",
        "```\n",
        "\n",
        "\n",
        "\n",
        "#####  Build a Random forest with the given specifications and check the model performance using precision, recall, F1 score; Obtain the test set metrics and compare it with the previous model results."
      ]
    },
    {
      "cell_type": "code",
      "execution_count": null,
      "id": "RpjvOAQtr5Xa",
      "metadata": {
        "colab": {
          "base_uri": "https://localhost:8080/"
        },
        "id": "RpjvOAQtr5Xa",
        "outputId": "3492d4fd-ca5f-4726-e180-bc814aa46df9"
      },
      "outputs": [
        {
          "output_type": "stream",
          "name": "stdout",
          "text": [
            "Precision: 0.54\n",
            "Recall: 0.70\n",
            "F1-Score: 0.61\n",
            "CPU times: user 8min 25s, sys: 1.3 s, total: 8min 26s\n",
            "Wall time: 8min 32s\n"
          ]
        }
      ],
      "source": [
        "%%time\n",
        "\n",
        "# Import required modules\n",
        "import sklearn.metrics as metrics\n",
        "from sklearn.ensemble import RandomForestClassifier\n",
        "from sklearn.model_selection import GridSearchCV\n",
        "\n",
        "# Step 1: Define the hyperparameter grid\n",
        "param_grid = {\n",
        "    'n_estimators': [100,200],          # Number of trees\n",
        "    'max_depth': [10, 20, 30],        # Maximum depth of each tree\n",
        "    'min_samples_split': [2, 5, 10]         # Minimum samples required to split a node\n",
        "}\n",
        "\n",
        "# Step 2: Initialize the Random Forest model\n",
        "rf_model = RandomForestClassifier(random_state=42, class_weight='balanced')\n",
        "\n",
        "# Step 3: Set up GridSearchCV\n",
        "grid_search = GridSearchCV(estimator=rf_model, param_grid=param_grid, cv=5, scoring='f1')\n",
        "\n",
        "# Step 4: Fit the GridSearchCV on the training data\n",
        "grid_search.fit(X_train, y_train)\n",
        "\n",
        "# Step 5: Get the best parameters and best estimator\n",
        "best_params = grid_search.best_params_\n",
        "best_model = grid_search.best_estimator_\n",
        "\n",
        "# Step 6: Make predictions on the test set using the best model\n",
        "y_pred = best_model.predict(X_test)\n",
        "\n",
        "# Step 7: Calculate Precision, Recall, and F1 Score for the best model\n",
        "precision = precision_score(y_test, y_pred)\n",
        "recall = recall_score(y_test, y_pred)\n",
        "f1 = f1_score(y_test, y_pred)\n",
        "\n",
        "\n",
        "# Step 8: Print the evaluation metrics\n",
        "print(f\"Precision: {precision:.2f}\")\n",
        "print(f\"Recall: {recall:.2f}\")\n",
        "print(f\"F1-Score: {f1:.2f}\")"
      ]
    },
    {
      "cell_type": "code",
      "source": [
        "\"\"\"\n",
        "\n",
        "After running a grid search for the optimal combination of hyperparameters given the initial range,\n",
        "the model did show improvement.  The recall score is bare minimum acceptable and the precision is\n",
        "has dropped lower than it was before hyperparameter tuning and class balancing.\n",
        "\n",
        "\"\"\""
      ],
      "metadata": {
        "id": "smJt79YDbyYo"
      },
      "id": "smJt79YDbyYo",
      "execution_count": null,
      "outputs": []
    },
    {
      "cell_type": "markdown",
      "id": "6561a09d",
      "metadata": {
        "id": "6561a09d"
      },
      "source": [
        "### 5.7 Build a XGBoost model\n",
        "\n",
        "#####  Build a default XGBoost model and check the model performance using precision, recall, F1 score for training and test sets; Give your comments ."
      ]
    },
    {
      "cell_type": "code",
      "execution_count": null,
      "id": "45ccf697",
      "metadata": {
        "colab": {
          "base_uri": "https://localhost:8080/"
        },
        "id": "45ccf697",
        "outputId": "9128e4f4-ff03-4d91-9ad8-cd7712db9e34"
      },
      "outputs": [
        {
          "output_type": "stream",
          "name": "stdout",
          "text": [
            "Precision: 1.00\n",
            "Recall: 0.94\n",
            "F1-Score: 0.97 \n",
            "\n",
            "Precision: 0.63\n",
            "Recall: 0.30\n",
            "F1-Score: 0.41\n"
          ]
        }
      ],
      "source": [
        "# Import required modules\n",
        "import xgboost as xgb\n",
        "\n",
        "# Step 1: Initialize and train the XGBoost model\n",
        "xgb_model = xgb.XGBClassifier(random_state=42)\n",
        "xgb_model.fit(X_train, y_train)\n",
        "\n",
        "# Step 2: Train the model\n",
        "xgb_model.fit(X_train, y_train)\n",
        "\n",
        "\n",
        "# Step 3: Make predictions on the training set\n",
        "y_train_pred = xgb_model.predict(X_train)\n",
        "\n",
        "\n",
        "# Step 4: Make predictions on the test set\n",
        "y_pred = xgb_model.predict(X_test)\n",
        "\n",
        "\n",
        "# Step 5: Calculate Precision, Recall, and F1 Score for the training set\n",
        "xgb_train_precision = precision_score(y_train, y_train_pred)\n",
        "xgb_train_recall = recall_score(y_train, y_train_pred)\n",
        "xgb_train_f1 = f1_score(y_train, y_train_pred)\n",
        "\n",
        "\n",
        "# Step 6: Calculate Precision, Recall, and F1 Score for the test set\n",
        "xgb_train_precision = precision_score(y_test, y_pred)\n",
        "xgb_train_recall = recall_score(y_test, y_pred)\n",
        "xgb_train_f1 = f1_score(y_test, y_pred)\n",
        "\n",
        "\n",
        "# Step 7: Print the evaluation metrics for the training set\n",
        "print(f\"Precision: {rf_train_precision:.2f}\")\n",
        "print(f\"Recall: {rf_train_recall:.2f}\")\n",
        "print(f\"F1-Score: {rf_train_f1:.2f} \\n\")\n",
        "\n",
        "\n",
        "# Step 8: Print the evaluation metrics for the test set\n",
        "print(f\"Precision: {rf_test_precision:.2f}\")\n",
        "print(f\"Recall: {rf_test_recall:.2f}\")\n",
        "print(f\"F1-Score: {rf_test_f1:.2f}\")\n",
        "\n",
        "\n"
      ]
    },
    {
      "cell_type": "code",
      "execution_count": null,
      "id": "kJJtLW2MvEX6",
      "metadata": {
        "colab": {
          "base_uri": "https://localhost:8080/",
          "height": 35
        },
        "id": "kJJtLW2MvEX6",
        "outputId": "6d77f329-bb3a-4bb5-d21f-70cfcf2f709f"
      },
      "outputs": [
        {
          "output_type": "execute_result",
          "data": {
            "text/plain": [
              "'\\nThis model is overfitting the data during training.  Even though XG Boost is applying regularization, the classes need to be balanced to prevent overfitting.\\nThe precision is really high compared the the Recall, which is opposite of what we want to see for this problem.\\n\\n'"
            ],
            "application/vnd.google.colaboratory.intrinsic+json": {
              "type": "string"
            }
          },
          "metadata": {},
          "execution_count": 30
        }
      ],
      "source": [
        "\"\"\"\n",
        "\n",
        "This model is overfitting the data during training.  Even though XG Boost is applying regularization, the classes need to be balanced to prevent overfitting.\n",
        "The precision is really high compared the Recall, which is opposite of what we want to see for this problem.\n",
        "\n",
        "\"\"\""
      ]
    },
    {
      "cell_type": "markdown",
      "id": "af752029",
      "metadata": {
        "id": "af752029"
      },
      "source": [
        "### 5.8 XGBoost model with hyper parameter tuning\n",
        "\n",
        "#####  Build a XGBoost model with the following parameter grid and check the model performance using precision, recall, F1 score on test set; Compare your result with the default XGBoost model .\n",
        "\n",
        "#### Hyperparameter grid:\n",
        "    - 'n_estimators': [50, 100, 200, 300],                 \n",
        "    - 'learning_rate': [0.01, 0.1, 0.2, 0.3],              \n",
        "    - 'max_depth': [None, 3, 5, 7, 10],                          \n",
        "    - 'min_child_weight': [1, 3, 5],                      \n",
        "    - 'subsample': [0.2, 0.6, 0.8, 1.0],                        \n",
        "    - 'colsample_bytree': [0.6, 0.8, 1.0],                 \n",
        "    - 'gamma': [0, 0.1, 0.3, 0.5]                          "
      ]
    },
    {
      "cell_type": "code",
      "execution_count": null,
      "id": "7cc3164c",
      "metadata": {
        "colab": {
          "base_uri": "https://localhost:8080/"
        },
        "id": "7cc3164c",
        "outputId": "13589db7-56ba-4c3d-8d3d-e882ac952a7c"
      },
      "outputs": [
        {
          "output_type": "stream",
          "name": "stdout",
          "text": [
            "Precision: 0.49\n",
            "Recall: 0.80\n",
            "F1-Score: 0.61\n"
          ]
        }
      ],
      "source": [
        "# Import required modules\n",
        "import xgboost as xgb\n",
        "from sklearn.model_selection import RandomizedSearchCV\n",
        "\n",
        "# Step 1: Define the hyperparameter grid\n",
        "param_dist = {\n",
        "    'n_estimators': [50, 100, 200, 300],                 # Number of trees\n",
        "    'learning_rate': [0.01, 0.1, 0.2, 0.3],              # Learning rate\n",
        "    'max_depth': [None, 3, 5, 7, 10],                          # Maximum depth of each tree\n",
        "    'min_child_weight': [1, 3, 5],                       # Minimum sum of instance weight (hessian) needed in a child\n",
        "    'subsample': [0.2, 0.6, 0.8, 1.0],                        # Subsample ratio of the training instance\n",
        "    'colsample_bytree': [0.6, 0.8, 1.0],                 # Subsample ratio of columns when constructing each tree\n",
        "    'gamma': [0, 0.1, 0.3, 0.5]                          # Minimum loss reduction required to make a further partition on a leaf node\n",
        "}\n",
        "\n",
        "neg_count = (y_train == 0).sum()\n",
        "pos_count = (y_train == 1).sum()\n",
        "scale_pos_weight = neg_count / pos_count\n",
        "\n",
        "# Step 2: Initialize the XGBoost model\n",
        "xgb_model = xgb.XGBClassifier(random_state=42, scale_pos_weight=scale_pos_weight)\n",
        "\n",
        "# Step 3: Set up the RandomizedSearchCV\n",
        "random_search = RandomizedSearchCV(estimator=xgb_model, param_distributions=param_dist, n_iter=10, cv=5, scoring='f1')\n",
        "\n",
        "\n",
        "# Step 4: Fit the RandomizedSearchCV on the training data\n",
        "random_search.fit(X_train, y_train)\n",
        "\n",
        "# Step 5: Get the best parameters and best estimator\n",
        "best_params = random_search.best_params_\n",
        "best_model = random_search.best_estimator_\n",
        "\n",
        "\n",
        "# Step 6: Make predictions on the test set using the best model\n",
        "y_pred = best_model.predict(X_test)\n",
        "\n",
        "# Step 7: Calculate Precision, Recall, and F1 Score for the best model\n",
        "precision = precision_score(y_test, y_pred)\n",
        "recall = recall_score(y_test, y_pred)\n",
        "f1 = f1_score(y_test, y_pred)\n",
        "\n",
        "# Step 8: Print the evaluation metrics\n",
        "print(f\"Precision: {precision:.2f}\")\n",
        "print(f\"Recall: {recall:.2f}\")\n",
        "print(f\"F1-Score: {f1:.2f}\")\n"
      ]
    },
    {
      "cell_type": "code",
      "source": [
        "\"\"\"\n",
        "\n",
        "After hyperparameter tuning with the XGBoost model, the performance has improved on both the precision and recall\n",
        "metrics.  The recall is at a pretty good level and the precision is in an acceptable range given the constraints\n",
        "of the problem.\n",
        "\n",
        "\"\"\""
      ],
      "metadata": {
        "id": "oVy-Z19HcegI"
      },
      "id": "oVy-Z19HcegI",
      "execution_count": null,
      "outputs": []
    },
    {
      "cell_type": "markdown",
      "id": "827c2aad",
      "metadata": {
        "id": "827c2aad"
      },
      "source": [
        "### 5.9 XGBoost model with hyper parameter tuning and SMOTE\n",
        "\n",
        "#####  Build a XGBoost model with the parameter grid given in the previous problem and also balance the dataset with SMOTE and check the model performance using precision, recall, F1 score on test set; Compare your result with previous XGboost models ."
      ]
    },
    {
      "cell_type": "code",
      "execution_count": null,
      "id": "e9bbb2ae",
      "metadata": {
        "id": "e9bbb2ae",
        "colab": {
          "base_uri": "https://localhost:8080/"
        },
        "outputId": "bac000b2-658c-4ba7-d6dc-2e54634d14b7"
      },
      "outputs": [
        {
          "output_type": "stream",
          "name": "stdout",
          "text": [
            "Precision: 0.56\n",
            "Recall: 0.68\n",
            "F1-Score: 0.61\n"
          ]
        }
      ],
      "source": [
        "# Import required modules\n",
        "\n",
        "# Step 1: Apply SMOTE to the training data to handle class imbalance\n",
        "smote = SMOTE(random_state=42)\n",
        "\n",
        "# Resample X_train and y_train\n",
        "X_train_resampled, y_train_resampled = smote.fit_resample(X_train, y_train)\n",
        "# Convert the resampled data to NumPy arrays (if they are not already)\n",
        "X_train_smote, y_train_smote = X_train_resampled.to_numpy(), y_train_resampled.to_numpy()\n",
        "\n",
        "# Step 2: Define the hyperparameter grid for XGBoost\n",
        "param_dist = {\n",
        "    'n_estimators': [50, 100, 200, 300],                 # Number of trees\n",
        "    'learning_rate': [0.01, 0.1, 0.2, 0.3],              # Learning rate\n",
        "    'max_depth': [3, 5, 7, 10],                          # Maximum depth of each tree\n",
        "    'min_child_weight': [1, 3, 5],                       # Minimum sum of instance weight (hessian) needed in a child\n",
        "    'subsample': [0.6, 0.8, 1.0],                        # Subsample ratio of the training instance\n",
        "    'colsample_bytree': [0.2, 0.6, 0.8, 1.0],                 # Subsample ratio of columns when constructing each tree\n",
        "    'gamma': [0, 0.1, 0.3, 0.5]                          # Minimum loss reduction required to make a further partition on a leaf node\n",
        "}\n",
        "\n",
        "# Step 3: Initialize the XGBoost model\n",
        "xgb_SMOTE_model = xgb.XGBClassifier(random_state=42)\n",
        "\n",
        "# Step 4: Set up RandomizedSearchCV\n",
        "random_search = RandomizedSearchCV(estimator=xgb_SMOTE_model, param_distributions=param_dist, n_iter=10, cv=5, scoring='f1')\n",
        "\n",
        "# Step 5: Fit RandomizedSearchCV on the SMOTEd training data\n",
        "random_search.fit(X_train_smote, y_train_smote)\n",
        "\n",
        "# Step 6: Get the best parameters and best estimator\n",
        "best_params = random_search.best_params_\n",
        "best_model = random_search.best_estimator_\n",
        "\n",
        "\n",
        "\n",
        "# Step 7: Make predictions on the test set using the best model\n",
        "y_pred = best_model.predict(X_test)\n",
        "\n",
        "\n",
        "# Step 8: Calculate Precision, Recall, and F1 Score for the best model\n",
        "precision = precision_score(y_test, y_pred)\n",
        "recall = recall_score(y_test, y_pred)\n",
        "f1 = f1_score(y_test, y_pred)\n",
        "\n",
        "\n",
        "# Step 9: Print the evaluation metrics\n",
        "print(f\"Precision: {precision:.2f}\")\n",
        "print(f\"Recall: {recall:.2f}\")\n",
        "print(f\"F1-Score: {f1:.2f}\")\n",
        "\n"
      ]
    },
    {
      "cell_type": "code",
      "source": [
        "\"\"\"\n",
        "\n",
        "The precision increased lightly after applying SMOTE to balance the Target classes,\n",
        "however, we got a reduction in recall, which is not what we want.  Not an ideal model.\n",
        "\n",
        "\"\"\""
      ],
      "metadata": {
        "id": "kPHWJDBedR4Q"
      },
      "id": "kPHWJDBedR4Q",
      "execution_count": null,
      "outputs": []
    },
    {
      "cell_type": "markdown",
      "id": "1a46e0f2",
      "metadata": {
        "id": "1a46e0f2"
      },
      "source": [
        "### 5.10 Best model selection\n",
        "\n",
        "#####  Evaluate the test set performance of all 9 models and create horizontal bar plots for each individual metric to visualize the results effectively. Based on the plots and your analysis, select the top three models and provide your reasoning for the selection.."
      ]
    },
    {
      "cell_type": "code",
      "execution_count": 9,
      "id": "a805162d",
      "metadata": {
        "id": "a805162d",
        "colab": {
          "base_uri": "https://localhost:8080/",
          "height": 1685
        },
        "outputId": "39b21e92-90ba-4574-a9a6-b4f586b7bac2"
      },
      "outputs": [
        {
          "output_type": "display_data",
          "data": {
            "text/plain": [
              "<Figure size 1000x600 with 1 Axes>"
            ],
            "image/png": "[encoded data removed]"
          },
          "metadata": {}
        },
        {
          "output_type": "display_data",
          "data": {
            "text/plain": [
              "<Figure size 1000x600 with 1 Axes>"
            ],
            "image/png": "[encoded data removed]"
          },
          "metadata": {}
        },
        {
          "output_type": "display_data",
          "data": {
            "text/plain": [
              "<Figure size 1000x600 with 1 Axes>"
            ],
            "image/png": "[encoded data removed]"
          },
          "metadata": {}
        }
      ],
      "source": [
        "import seaborn as sns\n",
        "import matplotlib.pyplot as plt\n",
        "import pandas as pd\n",
        "\n",
        "\n",
        "# Model names and their corresponding metrics (precision, recall, F1 score)\n",
        "model_names = [\n",
        "    \"Default Logistic Regression\", \"Logistic Regression with Optimal Threshold\",\n",
        "    \"KNN (k=5)\", \"KNN (k=5) + SMOTE\", \"Random Forest (10 Trees)\",\n",
        "    \"Tuned Random Forest\", \"Default XGBoost\", \"Tuned XGBoost\",\n",
        "    \"Tuned XGBoost + SMOTE\"\n",
        "]\n",
        "\n",
        "\n",
        "# Get precision, recall, and F1 scores\n",
        "precision_scores =[0.64, 0.37, 0.60, 0.41, 0.63, 0.54, 0.63, 0.49, 0.56]\n",
        "recall_scores =[0.35, 0.88, 0.34, 0.73, 0.30, 0.70, 0.30, 0.80, 0.68]\n",
        "f1_scores = [0.45, 0.52, 0.43, 0.52, 0.41, 0.61, 0.41, 0.61, 0.61]\n",
        "\n",
        "\n",
        "# Creating a DataFrame for easier manipulation\n",
        "df = pd.DataFrame({\n",
        "    'Model': model_names,\n",
        "    'Precision': precision_scores,\n",
        "    'Recall': recall_scores,\n",
        "    'F1-Score': f1_scores\n",
        "})\n",
        "\n",
        "\n",
        "# Sorting the DataFrame for each metric\n",
        "df_precision_sorted = df.sort_values(by='Precision', ascending=False)\n",
        "df_recall_sorted = df.sort_values(by='Recall', ascending=False)\n",
        "df_f1_sorted = df.sort_values(by='F1-Score', ascending=False)\n",
        "\n",
        "\n",
        "# Set style for plots\n",
        "sns.set(style=\"whitegrid\")\n",
        "\n",
        "\n",
        "# Plot for Precision\n",
        "plt.figure(figsize=(10, 6))\n",
        "sns.barplot(x='Precision', y='Model', data=df_precision_sorted, palette=\"viridis\", hue='Model', legend=False)\n",
        "plt.title('Precision Scores')\n",
        "plt.xlabel('Precision')\n",
        "plt.ylabel('Model')\n",
        "plt.show()\n",
        "\n",
        "# Plot for Recall\n",
        "plt.figure(figsize=(10, 6))\n",
        "sns.barplot(x='Recall', y='Model', data=df_recall_sorted, palette=\"viridis\", hue='Model', legend=False)\n",
        "plt.title('Recall Scores')\n",
        "plt.xlabel('Recall')\n",
        "plt.ylabel('Model')\n",
        "plt.show()\n",
        "\n",
        "# Plot for F1-Score\n",
        "plt.figure(figsize=(10, 6))\n",
        "sns.barplot(x=\"F1-Score\", y=\"Model\", data=df_f1_sorted, palette=\"Reds_d\", hue='Model', legend=False)\n",
        "plt.title(\"Models Ordered by F1-Score\")\n",
        "plt.xlabel(\"F1-Score\")\n",
        "plt.ylabel(\"Model\")\n",
        "plt.show()\n",
        "\n"
      ]
    }
  ],
  "metadata": {
    "colab": {
      "provenance": [],
      "include_colab_link": true
    },
    "kernelspec": {
      "display_name": "Python 3 (ipykernel)",
      "language": "python",
      "name": "python3"
    },
    "language_info": {
      "codemirror_mode": {
        "name": "ipython",
        "version": 3
      },
      "file_extension": ".py",
      "mimetype": "text/x-python",
      "name": "python",
      "nbconvert_exporter": "python",
      "pygments_lexer": "ipython3",
      "version": "3.11.5"
    }
  },
  "nbformat": 4,
  "nbformat_minor": 5
}
