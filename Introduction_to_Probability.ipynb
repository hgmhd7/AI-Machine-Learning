{
  "nbformat": 4,
  "nbformat_minor": 0,
  "metadata": {
    "colab": {
      "provenance": [],
      "include_colab_link": true
    },
    "kernelspec": {
      "name": "python3",
      "display_name": "Python 3"
    },
    "language_info": {
      "name": "python"
    }
  },
  "cells": [
    {
      "cell_type": "markdown",
      "metadata": {
        "id": "view-in-github",
        "colab_type": "text"
      },
      "source": [
        "<a href=\"https://colab.research.google.com/github/hgmhd7/AI-Machine-Learning/blob/main/Introduction_to_Probability.ipynb\" target=\"_parent\"><img src=\"https://colab.research.google.com/assets/colab-badge.svg\" alt=\"Open In Colab\"/></a>"
      ]
    },
    {
      "cell_type": "markdown",
      "source": [
        "To save your progress please make a copy of this notebook and try to solve the below questions in your notebook. Try to solve them independently first, referring to the solutions only when necessary. This approach will help solidify your grasp on the material.\n",
        "\n",
        "If you find yourself needing clarification or have questions, join our Assignment Review session on Thursday. It's a great opportunity to clear up any doubts and deepen your understanding.\n",
        "\n",
        "\n",
        "### *Keep up the good work!*\n"
      ],
      "metadata": {
        "id": "2ccUEjr0E7md"
      }
    },
    {
      "cell_type": "markdown",
      "source": [
        "#Question 1\n",
        "\n",
        "---\n",
        "\n",
        "\n",
        "##Coin Toss and Betting\n",
        "\n",
        "We are given a function coin_toss that simulates a single coin toss.\n",
        "\n",
        "The function coin_trial simulates a trial of 100 coin tosses by calling the coin_toss function each time.\n",
        "\n",
        "Note that a fair coin is supposed to yield 50 heads and 50 tails. However, that is not always the case. If you toss the coin 100 times, you might get fewer or more than 50 heads.\n",
        "\n",
        "Now, what if you repeat the experiment 10, 100, 1000... 10000 times? You will observe that the average number of heads will converge close to 50.\n",
        "\n",
        "The simulate function simulates this repeating experiment. If you call simulate with n = 1, it is equivalent to 100 coin tosses. If you call it with n = 10, you repeat a trial of 100 coin tosses 10 times.\n",
        "\n",
        "There is a fascinating probability theory at play here, which you might learn in one of your upcoming classes.\n",
        "However, even without knowing the theory, one can verify this through simulation."
      ],
      "metadata": {
        "id": "x6k_00GnSjSr"
      }
    },
    {
      "cell_type": "code",
      "source": [
        "import random\n",
        "\n",
        "def coin_toss():\n",
        "    \"\"\" Simulates a single fair coin toss.\n",
        "\n",
        "    Returns:\n",
        "        int: 1 for heads, 0 for tails.\n",
        "    \"\"\"\n",
        "    if random.random() <= 0.5:\n",
        "        return 1  # Heads\n",
        "    else:\n",
        "        return 0  # Tails\n",
        "\n",
        "\n",
        "def coin_trial():\n",
        "    \"\"\" Simulates a trial of 100 coin tosses using the coin_toss function.\n",
        "\n",
        "    Returns:\n",
        "        int: Number of heads obtained (0 to 100).\n",
        "    \"\"\"\n",
        "    heads = 0\n",
        "    for i in range(100):\n",
        "        heads += coin_toss()\n",
        "    return heads\n",
        "\n",
        "\n",
        "def simulate(n):\n",
        "    # Initialize an empty list to store the results of each trial\n",
        "    trials = []\n",
        "\n",
        "    # Loop `n` times to perform `n` trials\n",
        "    for i in range(n):\n",
        "        # Call `coin_trial()` to simulate 100 coin tosses and append the result (number of heads) to `trials`\n",
        "        trials.append(coin_trial())\n",
        "\n",
        "    # Calculate the average number of heads across all trials\n",
        "    average_heads = sum(trials) / n\n",
        "\n",
        "    # Return the computed average\n",
        "    return average_heads"
      ],
      "metadata": {
        "id": "V4MTw2nASEi0"
      },
      "execution_count": null,
      "outputs": []
    },
    {
      "cell_type": "code",
      "source": [
        "simulate(1)"
      ],
      "metadata": {
        "colab": {
          "base_uri": "https://localhost:8080/"
        },
        "id": "K3LbfwacSEfr",
        "outputId": "6ef77c0a-052e-4dfc-897e-9c853a34b4c7"
      },
      "execution_count": null,
      "outputs": [
        {
          "output_type": "execute_result",
          "data": {
            "text/plain": [
              "53.0"
            ]
          },
          "metadata": {},
          "execution_count": 137
        }
      ]
    },
    {
      "cell_type": "code",
      "source": [
        "simulate(10)"
      ],
      "metadata": {
        "colab": {
          "base_uri": "https://localhost:8080/"
        },
        "id": "t9_p8zcbSEc7",
        "outputId": "b14e58ff-f347-4987-bb6a-1e5b3997e946"
      },
      "execution_count": null,
      "outputs": [
        {
          "output_type": "execute_result",
          "data": {
            "text/plain": [
              "51.4"
            ]
          },
          "metadata": {},
          "execution_count": 138
        }
      ]
    },
    {
      "cell_type": "code",
      "source": [
        "simulate(100)"
      ],
      "metadata": {
        "colab": {
          "base_uri": "https://localhost:8080/"
        },
        "id": "3ZeVfF4iTxZa",
        "outputId": "c68b01ca-3ae5-4873-d735-ebd6d218b06e"
      },
      "execution_count": null,
      "outputs": [
        {
          "output_type": "execute_result",
          "data": {
            "text/plain": [
              "49.87"
            ]
          },
          "metadata": {},
          "execution_count": 139
        }
      ]
    },
    {
      "cell_type": "code",
      "source": [
        "simulate(1000)"
      ],
      "metadata": {
        "colab": {
          "base_uri": "https://localhost:8080/"
        },
        "id": "hfLVdWc2TzSX",
        "outputId": "6c2d8515-2db9-4e84-c5f1-b4d886852d20"
      },
      "execution_count": null,
      "outputs": [
        {
          "output_type": "execute_result",
          "data": {
            "text/plain": [
              "50.067"
            ]
          },
          "metadata": {},
          "execution_count": 140
        }
      ]
    },
    {
      "cell_type": "code",
      "source": [
        "simulate(10000)"
      ],
      "metadata": {
        "colab": {
          "base_uri": "https://localhost:8080/"
        },
        "id": "qG1hr61rTzPY",
        "outputId": "4b5c4fa3-401f-44fb-d0ae-b1a657c1f2de"
      },
      "execution_count": null,
      "outputs": [
        {
          "output_type": "execute_result",
          "data": {
            "text/plain": [
              "49.9547"
            ]
          },
          "metadata": {},
          "execution_count": 141
        }
      ]
    },
    {
      "cell_type": "markdown",
      "source": [
        "Try simulating this 100-coin toss 10, 100, 1000, and 10000 times. Notice whether the average number of heads you obtain is approaching close to 50. Can you intuitively explain why this phenomenon occurs?\n"
      ],
      "metadata": {
        "id": "2N6NHNaxT2zL"
      }
    },
    {
      "cell_type": "code",
      "source": [
        "\"\"\"\n",
        "\n",
        "I belive this is happening because the more sample trials you go through, the more data you have.  Typically, the more\n",
        "data points you have, the closer the data will be to a normal distribution.  This is due to the fact you are effectively reducing\n",
        "the weight that outliers can have compared to a smaller data set.  So, the closer your tiral results are to a normal distribution,\n",
        "the more acurate the simulated average will be compared to the expected average.\n",
        "\n",
        "\"\"\""
      ],
      "metadata": {
        "id": "P7NBQxpVTzJe"
      },
      "execution_count": null,
      "outputs": []
    },
    {
      "cell_type": "markdown",
      "source": [
        "#Question 2\n",
        "\n",
        "---\n",
        "\n",
        "\n",
        "## Betting offer\n",
        "\n",
        "Your friend suggests a fair coin game with the following rules: you will keep tossing the coin until heads comes up. For every tails that appears, you owe your friend `$10`. However, if a head comes up, your friend will pay you `$100`.\n",
        "\n",
        "The sample space for this experiment includes outcomes like {H, TH, TTH, .... TTTTTH ....}. As soon as a head appears, you stop tossing, and your friend pays you `$100`. For each tails that shows up, you need to pay your friend $10. To make a profit, it's beneficial to get a head as quickly as possible.\n",
        "\n",
        "You can use the simulation method we discussed earlier to simulate a fair coin. Now, leverage the power of simulation.\n",
        "\n",
        "Write a simulation logic and a trial logic to help you decide whether you should take this bet or not.\n",
        "\n",
        "Consider this: What if your friend offered you `$100` once a head comes up? Would you take the bet? Write a simulation function to decide."
      ],
      "metadata": {
        "id": "7IXQkuNXUGXL"
      }
    },
    {
      "cell_type": "code",
      "source": [
        " # write your code here\n",
        "import numpy as np\n",
        "import pandas as pd\n",
        "\n",
        "# Function for trials\n",
        "def coin_toss_trial():\n",
        "\n",
        "  # Create empty results array and set default heads value\n",
        "  heads = False\n",
        "  game_summary = []\n",
        "\n",
        "  # Flip until heads =  true\n",
        "  while heads == False:\n",
        "\n",
        "    # Randomize between 1 and 2 to simulate a coin flip\n",
        "    randomizer = np.random.randint(1,3)\n",
        "\n",
        "    # Append True if heads\n",
        "    if randomizer == 1:\n",
        "      flip_outcome = 'H'\n",
        "      heads = True\n",
        "      game_summary.append(flip_outcome)\n",
        "\n",
        "    # Append False if tails\n",
        "    else:\n",
        "      flip_outcome = 'T'\n",
        "      game_summary.append(flip_outcome)\n",
        "\n",
        "    ## Test output\n",
        "    # print(game_summary)\n",
        "\n",
        "  return game_summary\n",
        "\n",
        "\n",
        "\n",
        "# Function for experiments\n",
        "def coin_toss_experiment(n):\n",
        "\n",
        "  # Create empty results array\n",
        "  results_array = []\n",
        "\n",
        "  # Run coin flip game for designated amount of trials\n",
        "  for i in range(0, n):\n",
        "\n",
        "    # Call the trial function and calculate total tails and win/loss amount\n",
        "    trial_result = coin_toss_trial()\n",
        "    tail_total = (len(trial_result)-1)*10\n",
        "    win_loss_total = 100 - tail_total\n",
        "\n",
        "    # Add tails and win-loss totals to results array\n",
        "    results_array.append([tail_total, win_loss_total])\n",
        "\n",
        "    ##Test results\n",
        "    # print(trial_result)\n",
        "    # print(results_array)\n",
        "\n",
        "  return np.array(results_array)\n",
        "\n",
        "# Run experiment\n",
        "results = coin_toss_experiment(1000)\n",
        "\n",
        "# Print results of experiment\n",
        "print(f'After {len(results)} games of flip the coin, the grand total of winnings is: ${int(np.sum(results[:,1]))}.')\n",
        "\n",
        "\n",
        "\n"
      ],
      "metadata": {
        "id": "5n04Wxf8cSyM",
        "colab": {
          "base_uri": "https://localhost:8080/"
        },
        "outputId": "61b2365b-3d53-46a4-ea65-34db34514ff2"
      },
      "execution_count": null,
      "outputs": [
        {
          "output_type": "stream",
          "name": "stdout",
          "text": [
            "After 1000 games of flip the coin, the grand total of winnings is: $89650.\n"
          ]
        }
      ]
    },
    {
      "cell_type": "code",
      "source": [
        "\"\"\"\n",
        "\n",
        "Given the overal profit over several experiments, I would absolutely take the bet.\n",
        "\n",
        "\"\"\""
      ],
      "metadata": {
        "id": "sOAdxN0KWqfu"
      },
      "execution_count": null,
      "outputs": []
    },
    {
      "cell_type": "markdown",
      "source": [
        "# Question 3\n",
        "\n",
        "---\n",
        "\n",
        "\n",
        "## Dice Roll\n",
        "\n",
        "Write a Python function to simulate a casino where two dice are rolled together, and the player wins if there are two six and gets `$100`. What will be the average profit if the casino fee is 5 cents per game?"
      ],
      "metadata": {
        "id": "QFYvWrVMaaY9"
      }
    },
    {
      "cell_type": "code",
      "source": [
        "def dice_roll_game(n):\n",
        "\n",
        "  import numpy as np\n",
        "\n",
        "  # Set default values for player winnings and casino profit\n",
        "  player_winnings = 0\n",
        "  casino_profit = 0\n",
        "\n",
        "  # Run game\n",
        "  for i in range(0, n):\n",
        "\n",
        "    # Randomize dice throw\n",
        "    dice_1 = np.random.randint(1,7)\n",
        "    dice_2 = np.random.randint(1,7)\n",
        "\n",
        "    # Add fee for casino to round\n",
        "    # We are performing 'Penny Arithmetic' since the prescision isnt quite right when you add .05\n",
        "    # Will convert back to pennies later\n",
        "    casino_profit += 5\n",
        "\n",
        "    # If you roll two sixes, update the player winnings\n",
        "    if dice_1==6 and dice_2 == 6:\n",
        "      player_winnings += 100\n",
        "\n",
        "    ## Test output\n",
        "    #print(dice_1, dice_2, player_winnings, casino_profit)\n",
        "\n",
        "  # Create variable for converting the 'Penny Arithmetic' vaule to pennies\n",
        "  casino_profit_converted = casino_profit/100\n",
        "\n",
        "  # Calculate total and average casino p&l\n",
        "  casino_pl = casino_profit_converted-player_winnings\n",
        "  acverage_casino_pl = casino_pl/n\n",
        "\n",
        "  return [player_winnings, casino_profit_converted, casino_pl, acverage_casino_pl]\n",
        "\n",
        "\n",
        "# Conduct experiment\n",
        "num_of_games = 1000000\n",
        "simulation = dice_roll_game(num_of_games)\n",
        "\n",
        "# Asign list results to variables\n",
        "final_player_winnings = simulation[0]\n",
        "final_casino_profit_converted = simulation[1]\n",
        "final_casino_pl = simulation[2]\n",
        "final_acverage_casino_pl = simulation[3]\n",
        "\n",
        "# Print results\n",
        "print(f'After {num_of_games} games, the total player winings are {final_player_winnings}, total casino profit is {final_casino_profit_converted}\\ntotal casino P&L is {final_casino_pl}, and average casino P&L is {final_acverage_casino_pl}.')"
      ],
      "metadata": {
        "id": "ZA2WGJkCWqc3",
        "colab": {
          "base_uri": "https://localhost:8080/"
        },
        "outputId": "49a0f5b0-4fe7-46b3-82c7-40d48e0f2d7f"
      },
      "execution_count": null,
      "outputs": [
        {
          "output_type": "stream",
          "name": "stdout",
          "text": [
            "After 1000000 games, the total player winings are 2770400, total casino profit is 50000.0\n",
            "total casino P&L is -2720400.0, and average casino P&L is -2.7204.\n"
          ]
        }
      ]
    },
    {
      "cell_type": "code",
      "source": [
        "\"\"\"\n",
        "\n",
        "After conducting the experiment a million times, the average P&L for the casino is $-2.74.\n",
        "Therefore, this would not be an advantageous game for the casino to deploy.\n",
        "They would need to increase the fee to make this a profitable game.\n",
        "\n",
        "\"\"\""
      ],
      "metadata": {
        "id": "k93W2iTfXC6I"
      },
      "execution_count": null,
      "outputs": []
    },
    {
      "cell_type": "code",
      "source": [],
      "metadata": {
        "id": "uLZl3WdtXQMM"
      },
      "execution_count": null,
      "outputs": []
    },
    {
      "cell_type": "markdown",
      "source": [
        "# Question 4\n",
        "\n",
        "---\n",
        "\n",
        "\n",
        "## Infinte monkey Theorem\n",
        "The infinite monkey theorem states that a monkey hitting keys at random on a typewriter keyboard for an infinite amount of time will almost surely type any given text, such as the complete works of William Shakespeare.\n",
        "\n",
        "Suppose the typewriter can only type between A-Z. Ignoring punctuation, spacing, and capitalization, write a function that calculates the probability of writing the title \"Hamlet.\"\n",
        "\n",
        "The text of Hamlet contains approximately 130,000 letters. Can you comment on the chance of the monkey typing out Hamlet by randomly hitting keys on the typewriter?\n",
        "\n",
        "\n"
      ],
      "metadata": {
        "id": "eB53ExGJbnWm"
      }
    },
    {
      "cell_type": "markdown",
      "source": [],
      "metadata": {
        "id": "VZ6_SWqVbnTn"
      }
    },
    {
      "cell_type": "code",
      "source": [
        "def infinite_monkey():\n",
        "\n",
        "  # Create variables for length of test and letter probability\n",
        "  hamlet_letter_length = 130000\n",
        "  letter_probability = 1/26\n",
        "\n",
        "  # Calculate the probability of writting the text and convert to float for more precision\n",
        "  infinite_monkey_probability = letter_probability ** hamlet_letter_length\n",
        "  monkey_probability = float(infinite_monkey_probability)\n",
        "\n",
        "  return monkey_probability\n",
        "\n",
        "\n",
        "# Print results\n",
        "print(f'The monkeys have a {infinite_monkey()} chance of typing out Hamlet.')"
      ],
      "metadata": {
        "id": "nXfdAzxQddkc",
        "colab": {
          "base_uri": "https://localhost:8080/"
        },
        "outputId": "3cb6174e-2fd3-467f-ae37-30116ec129a5"
      },
      "execution_count": null,
      "outputs": [
        {
          "output_type": "stream",
          "name": "stdout",
          "text": [
            "The monkeys have a 0.0 chance of typing out Hamlet.\n"
          ]
        }
      ]
    },
    {
      "cell_type": "code",
      "source": [
        "\"\"\"\n",
        "\n",
        "While not zero, the monkeys have an infinitesimal chance of typing out Hamlet.\n",
        "So much so that it can't even register on the scale given the current precision of\n",
        "the float data type.\n",
        "\n",
        "\"\"\""
      ],
      "metadata": {
        "id": "hmIGEVw6ZGqE"
      },
      "execution_count": null,
      "outputs": []
    },
    {
      "cell_type": "markdown",
      "source": [
        "#Question 5\n",
        "\n",
        "---\n",
        "##Birthday Paradox\n",
        "\n",
        "The birthday problem explores the likelihood that in a randomly selected group of people, there exists at least one pair who share the same birthday (day and month, but not necessarily the same year). Using simulations, calculate this probability\n",
        "\n",
        "*The problem revolves around the surprising probability that in a group of people, even with a relatively small number, there's a high chance that at least two individuals will share the same birthday. This probability is counterintuitive due to the large number of possible pairs of birthdays and is often referred to as the Birthday Paradox. The simulation approach helps estimate this probability by generating multiple random groups and checking how often at least two people share a birthday. This allows us to understand the likelihood of encountering shared birthdays in a practical and illustrative manner.*\n"
      ],
      "metadata": {
        "id": "7u2ePW53vb0n"
      }
    },
    {
      "cell_type": "code",
      "source": [
        "import numpy as np\n",
        "\n",
        "# Birday Paradox Trial\n",
        "def birthday_paradox_trial(group_size):\n",
        "\n",
        "  # Create bday list\n",
        "  # Randomize birthdays range of full year to represent different bdays. Set to group size.\n",
        "  group = [np.random.randint(1,366) for i in range(0, group_size)]\n",
        "\n",
        "  # Create group set for comparrison below\n",
        "  group_set = set(group)\n",
        "\n",
        "  ## Test\n",
        "  # print(group, group_set)\n",
        "\n",
        "  # If the full list and set are not the same lenghth, there are duplicate bdays. Return true...\n",
        "  # The logic here is that sets remove duplicates while Python lists don't, so if the list\n",
        "  # and sets are different lengths, that means duplicates were removed, thus there are multiple matching bdays.\n",
        "  if len(group) != len(group_set):\n",
        "    return True\n",
        "  else:\n",
        "    return False\n",
        "\n",
        "\n",
        "\n",
        "# Birday Paradox Experiment\n",
        "def birthday_paradox_experiment(trials):\n",
        "\n",
        "  ## Empty list to store results\n",
        "  results = []\n",
        "\n",
        "  # Rn trial designated amount of times\n",
        "  for i in range(0, trials):\n",
        "\n",
        "    # Randomoze group size\n",
        "    group_size = np.random.randint(1,101)\n",
        "\n",
        "    # Add results\n",
        "    results.append(birthday_paradox_trial(group_size))\n",
        "\n",
        "  return results\n",
        "\n",
        "\n",
        "# Define experiments size and run experiment.\n",
        "# Also convert result to numpy array for efficient filtering later\n",
        "experiment_size = 10000\n",
        "results_array = np.array(birthday_paradox_experiment(experiment_size))\n",
        "\n",
        "# Set copy so I dont change the original array\n",
        "copy = results_array.copy()\n",
        "\n",
        "# Calculate probablity of experiment\n",
        "overal_probability = len(copy[copy== True])/experiment_size\n",
        "\n",
        "# Print results\n",
        "print(f'Out of an experiment size of {experiment_size} trials with trial group sizes varing between 1 and 100 people, \\nthe overall simulated probabaility of two or more people having the same birthday is {overal_probability}')\n"
      ],
      "metadata": {
        "id": "IIa2k6a6v60C",
        "colab": {
          "base_uri": "https://localhost:8080/"
        },
        "outputId": "a9c018dc-d915-4955-da43-e57a4bffc10c"
      },
      "execution_count": null,
      "outputs": [
        {
          "output_type": "stream",
          "name": "stdout",
          "text": [
            "Out of an experiment size of 10000 trials with trial group sizes varing between 1 and 100 people, \n",
            "the overall simulated probabaility of two or more people having the same birthday is 0.7635\n"
          ]
        }
      ]
    },
    {
      "cell_type": "markdown",
      "source": [
        "# Question 6\n",
        "\n",
        "---\n",
        "\n",
        "What is the probability that when rolling two six-sided dice, their sum equals a specific value (e.g., 7)? Use simulations to estimate this probability.\n",
        "\n",
        "*This question asks us to use Python to simulate rolling two dice numerous times and determine how often their combined total matches a specified sum, such as 7. By running these simulations, we can estimate the likelihood (probability) of achieving this specific outcome based on random chance. This approach helps illustrate how probabilities can be calculated through practical experimentation rather than solely relying on theoretical calculations.*\n"
      ],
      "metadata": {
        "id": "d12r6vy9wDeC"
      }
    },
    {
      "cell_type": "code",
      "source": [
        "import numpy as np\n",
        "\n",
        "# Create game\n",
        "def lucky_seven(n):\n",
        "\n",
        "  # Initialize empty storage list\n",
        "  results_array = []\n",
        "\n",
        "  # Play game designated amount of times\n",
        "  for i in range(n):\n",
        "\n",
        "    # Randomize dice roll and get total\n",
        "    dice_1 = np.random.randint(1,7)\n",
        "    dice_2 = np.random.randint(1,7)\n",
        "\n",
        "    total = dice_1 + dice_2\n",
        "\n",
        "    # Add true if you get a 7 and false if you dont\n",
        "    if total == 7:\n",
        "      results_array.append(True)\n",
        "    else:\n",
        "      results_array.append(False)\n",
        "\n",
        "    ## Test\n",
        "    # print(dice_1, dice_2, results_array)\n",
        "\n",
        "  return results_array\n",
        "\n",
        "# Set experiment size and convert returned result to numpy array for more efficient filtering later\n",
        "experiment_size = 1000000\n",
        "results_array = np.array(lucky_seven(experiment_size))\n",
        "\n",
        "# Create copy so I dont change the original array\n",
        "results_copy = results_array.copy()\n",
        "\n",
        "# Calculate probability\n",
        "overal_probability = len(results_copy[results_copy==True])/experiment_size\n",
        "\n",
        "# Print result\n",
        "print(f'Out of an experiment size of {experiment_size} dice rolls, the overall\\nsimulated probabaility of the dice adding up to 7 is {overal_probability}.')\n",
        "\n"
      ],
      "metadata": {
        "id": "P5pXWpYNwjVd",
        "colab": {
          "base_uri": "https://localhost:8080/"
        },
        "outputId": "0a38becd-298b-4fa4-fd8e-f5d6b748c633"
      },
      "execution_count": null,
      "outputs": [
        {
          "output_type": "stream",
          "name": "stdout",
          "text": [
            "Out of an experiment size of 1000000 dice rolls, the overall\n",
            "simulated probabaility of the dice adding up to 7 is 0.166673.\n"
          ]
        }
      ]
    },
    {
      "cell_type": "markdown",
      "source": [],
      "metadata": {
        "id": "toMJpQKHHibd"
      }
    }
  ]
}